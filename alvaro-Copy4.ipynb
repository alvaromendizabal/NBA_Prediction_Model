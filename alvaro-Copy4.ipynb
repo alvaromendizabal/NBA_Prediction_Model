{
 "cells": [
  {
   "cell_type": "code",
   "execution_count": 4,
   "metadata": {},
   "outputs": [],
   "source": [
    "teams = {\n",
    "        \"Atlanta Hawks\": 1610612737,\n",
    "        \"Boston Celtics\": 1610612738,\n",
    "        \"Brooklyn Nets\": 1610612751,\n",
    "        \"Charlotte Bobcats\": 1610612766,\n",
    "        \"Charlotte Hornets\": 1610612766,\n",
    "        \"Chicago Bulls\": 1610612741,\n",
    "        \"Cleveland Cavaliers\": 1610612739,\n",
    "        \"Dallas Mavericks\": 1610612742,\n",
    "        \"Denver Nuggets\": 1610612743,\n",
    "        \"Detroit Pistons\": 1610612765,\n",
    "        \"Golden State Warriors\": 1610612744,\n",
    "        \"Houston Rockets\": 1610612745,\n",
    "        \"Indiana Pacers\": 1610612754,\n",
    "        \"LA Clippers\": 1610612746,\n",
    "        \"Los Angeles Clippers\": 1610612746,\n",
    "        \"Los Angeles Lakers\": 1610612747,\n",
    "        \"Memphis Grizzlies\": 1610612763,\n",
    "        \"Miami Heat\": 1610612748,\n",
    "        \"Milwaukee Bucks\": 1610612749,\n",
    "        \"Minnesota Timberwolves\": 1610612750,\n",
    "        \"New Jersey Nets\": 1610612751,\n",
    "        \"New Orleans Hornets\": 1610612740,\n",
    "        \"New Orleans Pelicans\": 1610612740,\n",
    "        \"New York Knicks\": 1610612752,\n",
    "        \"Oklahoma City Thunder\": 1610612760,\n",
    "        \"Orlando Magic\": 1610612753,\n",
    "        \"Philadelphia 76ers\": 1610612755,\n",
    "        \"Phoenix Suns\": 1610612756,\n",
    "        \"Portland Trail Blazers\": 1610612757,\n",
    "        \"Sacramento Kings\": 1610612758,\n",
    "        \"San Antonio Spurs\": 1610612759,\n",
    "        \"Toronto Raptors\": 1610612761,\n",
    "        \"Utah Jazz\": 1610612762,\n",
    "        \"Washington Wizards\": 1610612764,\n",
    "    }\n",
    "\n",
    "available_stats = {'W_PCT': 'Base',\n",
    "                   'FG_PCT': 'Base',\n",
    "                   'FG3_PCT': 'Base',\n",
    "                   'FT_PCT': 'Base',\n",
    "                   'REB': 'Base',\n",
    "                   'AST': 'Base',\n",
    "                   'TOV': 'Base',\n",
    "                   'STL': 'Base',\n",
    "                   'BLK': 'Base',\n",
    "                   'PLUS_MINUS': 'Base',\n",
    "                   'OFF_RATING': 'Advanced',\n",
    "                   'DEF_RATING': 'Advanced',\n",
    "                   'TS_PCT': 'Advanced'}\n"
   ]
  },
  {
   "cell_type": "code",
   "execution_count": 5,
   "metadata": {},
   "outputs": [
    {
     "data": {
      "text/plain": [
       "{'W_PCT': 0.646,\n",
       " 'FG_PCT': 0.469,\n",
       " 'FG3_PCT': 0.364,\n",
       " 'FT_PCT': 0.769,\n",
       " 'REB': 45.9,\n",
       " 'AST': 27.4,\n",
       " 'TOV': 15.0,\n",
       " 'STL': 8.9,\n",
       " 'BLK': 4.6,\n",
       " 'PLUS_MINUS': 5.6,\n",
       " 'OFF_RATING': 112.1,\n",
       " 'DEF_RATING': 106.6,\n",
       " 'TS_PCT': 0.582}"
      ]
     },
     "execution_count": 5,
     "metadata": {},
     "output_type": "execute_result"
    }
   ],
   "source": [
    "# get_stats.py gets the team data for the model\n",
    "\n",
    "# from team_names import teams\n",
    "import nba_api\n",
    "from nba_api.stats.endpoints import teamdashboardbygeneralsplits, leaguedashteamstats\n",
    "import time\n",
    "import pandas as pd\n",
    "\n",
    "\n",
    "\n",
    "def get_team_stats_dict(team, start_date, end_date, season='2021-22'):\n",
    "    \"\"\"\n",
    "    Returns the stats for the specified team in a dataframe, default year is 2021-22\n",
    "    :param team: Day of games scheduled in form 'mm/dd/yyyy'\n",
    "    :param season: Day of games scheduled in form 'mm/dd/yyyy'\n",
    "    :return: A dictionary of game matchups {home_team:[away_team]}\n",
    "    \"\"\"\n",
    "\n",
    "    time.sleep(1)\n",
    "\n",
    "    \n",
    "    general_team_info = teamdashboardbygeneralsplits.TeamDashboardByGeneralSplits(team_id=teams[team],\n",
    "                                                                                  per_mode_detailed='Per100Possessions',\n",
    "                                                                                  season=season,\n",
    "                                                                                  date_from_nullable=start_date,\n",
    "                                                                                  date_to_nullable=end_date,\n",
    "                                                                                  timeout=120)\n",
    "    general_team_dict = general_team_info.get_normalized_dict()\n",
    "    general_team_dashboard = general_team_dict['OverallTeamDashboard'][0]\n",
    "\n",
    "\n",
    "    win_percentage = general_team_dashboard['W_PCT']\n",
    "    fg_percentage = general_team_dashboard['FG_PCT']\n",
    "    fg3_percentage = general_team_dashboard['FG3_PCT']\n",
    "    ft_percentage = general_team_dashboard['FT_PCT']\n",
    "    rebounds = general_team_dashboard['REB']\n",
    "    assists = general_team_dashboard['AST']\n",
    "    turnovers = general_team_dashboard['TOV']\n",
    "    steals = general_team_dashboard['STL']\n",
    "    blocks = general_team_dashboard['BLK']\n",
    "    plus_minus = general_team_dashboard['PLUS_MINUS']\n",
    "\n",
    "    advanced_team_info = teamdashboardbygeneralsplits.TeamDashboardByGeneralSplits(team_id=teams[team],\n",
    "                                                                                   measure_type_detailed_defense='Advanced',\n",
    "                                                                                   season=season,\n",
    "                                                                                   date_from_nullable=start_date,\n",
    "                                                                                   date_to_nullable=end_date,\n",
    "                                                                                   timeout=120)\n",
    "    advanced_team_dict = advanced_team_info.get_normalized_dict()\n",
    "    advanced_team_dashboard = advanced_team_dict['OverallTeamDashboard'][0]\n",
    "\n",
    "    offensive_rating = advanced_team_dashboard['OFF_RATING']\n",
    "    defensive_rating = advanced_team_dashboard['DEF_RATING']\n",
    "    true_shooting_percentage = advanced_team_dashboard['TS_PCT']\n",
    "\n",
    "    all_stats_dict = {\n",
    "        'W_PCT': win_percentage,\n",
    "        'FG_PCT': fg_percentage,\n",
    "        'FG3_PCT': fg3_percentage,\n",
    "        'FT_PCT': ft_percentage,\n",
    "        'REB': rebounds,\n",
    "        'AST': assists,\n",
    "        'TOV': turnovers,\n",
    "        'STL': steals,\n",
    "        'BLK': blocks,\n",
    "        'PLUS_MINUS': plus_minus,\n",
    "        'OFF_RATING': offensive_rating,\n",
    "        'DEF_RATING': defensive_rating,\n",
    "        'TS_PCT': true_shooting_percentage\n",
    "    }\n",
    "\n",
    "    return all_stats_dict\n",
    "\n",
    "\n",
    "get_team_stats_dict('Golden State Warriors', '10/19/2021', '04/10/2022', '2021-22')"
   ]
  },
  {
   "cell_type": "code",
   "execution_count": 7,
   "metadata": {},
   "outputs": [
    {
     "name": "stdout",
     "output_type": "stream",
     "text": [
      "'get_daily_matches' returns a dictionary of the games on a specified date\n",
      "{'New York Knicks': 'Philadelphia 76ers', 'Dallas Mavericks': 'Los Angeles Lakers', 'Boston Celtics': 'Milwaukee Bucks', 'Golden State Warriors': 'Memphis Grizzlies', 'Denver Nuggets': 'Phoenix Suns'}\n",
      "\n",
      "'get_match_results' returns the matchup plus the result\n",
      "[{'Los Angeles Lakers': 'Golden State Warriors', 'Milwaukee Bucks': 'Brooklyn Nets'}, ['L', 'W'], [114, 121, 127, 104], ['0022100002', '0022100001']]\n"
     ]
    }
   ],
   "source": [
    "# get_matches.py gets the daily matches for a specific date and the results of the games\n",
    "\n",
    "from nba_api.stats.endpoints import leaguegamelog, scoreboard, leaguestandings\n",
    "#from team_names import teams\n",
    "\n",
    "\n",
    "\n",
    "def get_match_results(date, season):\n",
    "    \"\"\"\n",
    "    Returns the matchup and result of the game\n",
    "\n",
    "    :param date: Day of games scheduled in form 'mm/dd/yyyy'\n",
    "    :param season: Season in form of 'yyyy-yy'\n",
    "    :return: [{Boston Celtics: Los Angeles Lakers}], ['W']\n",
    "    \"\"\"\n",
    "\n",
    "    game_log = leaguegamelog.LeagueGameLog(season=season, league_id='00', date_from_nullable=date,\n",
    "                                           date_to_nullable=date, season_type_all_star='Regular Season', timeout=120)\n",
    "    game_log_dict = game_log.get_normalized_dict()\n",
    "    list_of_teams = game_log_dict['LeagueGameLog']\n",
    "\n",
    "    daily_match = {}\n",
    "    win_loss = []\n",
    "    score = []\n",
    "    game_id = []\n",
    "\n",
    "    for i in range(0, len(list_of_teams), 2):\n",
    "\n",
    "        if '@' in list_of_teams[i]['MATCHUP']:\n",
    "\n",
    "            away_team = list_of_teams[i]['TEAM_NAME']\n",
    "            home_team = list_of_teams[i + 1]['TEAM_NAME']\n",
    "\n",
    "            win_loss.append(list_of_teams[i + 1]['WL'])\n",
    "\n",
    "            game_id.append(list_of_teams[i + 1]['GAME_ID'])\n",
    "\n",
    "            score.append(list_of_teams[i + 1]['PTS'])\n",
    "            score.append(list_of_teams[i]['PTS'])\n",
    "\n",
    "        else:\n",
    "            away_team = list_of_teams[i + 1]['TEAM_NAME']\n",
    "            home_team = list_of_teams[i]['TEAM_NAME']\n",
    "\n",
    "            win_loss.append(list_of_teams[i]['WL'])\n",
    "\n",
    "            game_id.append(list_of_teams[i]['GAME_ID'])\n",
    "\n",
    "            score.append(list_of_teams[i]['PTS'])\n",
    "            score.append(list_of_teams[i + 1]['PTS'])\n",
    "\n",
    "        daily_match.update({home_team: away_team})\n",
    "\n",
    "    match_results = [daily_match, win_loss, score, game_id]\n",
    "\n",
    "    return match_results\n",
    "\n",
    "\n",
    "def get_daily_matches(date):\n",
    "    \"\"\"\n",
    "    This method creates a dictionary of daily game matchups.\n",
    "\n",
    "    :param date: Day of games scheduled in form 'mm/dd/yyyy'\n",
    "    :return: A dictionary of game matchups {home_team:away_team}\n",
    "    \"\"\"\n",
    "\n",
    "    daily_match = scoreboard.Scoreboard(league_id='00', game_date=date, timeout=120)\n",
    "    daily_match_dict = daily_match.get_normalized_dict()\n",
    "    games = daily_match_dict['GameHeader']\n",
    "\n",
    "    match = {}\n",
    "\n",
    "    for game in games:\n",
    "\n",
    "        home_team_id = game['HOME_TEAM_ID']\n",
    "\n",
    "        for team, team_id in teams.items():\n",
    "            if team_id == home_team_id:\n",
    "                home_team = team\n",
    "\n",
    "        away_team_id = game['VISITOR_TEAM_ID']\n",
    "\n",
    "        for team, team_id in teams.items():\n",
    "            if team_id == away_team_id:\n",
    "                away_team = team\n",
    "\n",
    "        match.update({home_team: away_team})\n",
    "\n",
    "    return match\n",
    "\n",
    "\n",
    "\n",
    "def main():\n",
    "    print(f\"\"\"'get_daily_matches' returns a dictionary of the games on a specified date\\n{get_daily_matches('12/25/22')}\\n\"\"\")\n",
    "    print(f\"\"\"'get_match_results' returns the matchup plus the result\\n{get_match_results('10/19/2021', '2021-22')}\"\"\")\n",
    "\n",
    "main()"
   ]
  },
  {
   "cell_type": "code",
   "execution_count": null,
   "metadata": {},
   "outputs": [],
   "source": [
    "from datetime import date, timedelta\n",
    "import pandas as pd\n",
    "import requests\n",
    "\n",
    "# from get_stats import get_team_stats_dict\n",
    "# from get_matches import get_match_results\n",
    "# from available_stats import available_stats\n",
    "\n",
    "\n",
    "# [{'Sacramento Kings': 'Boston Celtics', 'Charlotte Hornets': 'Philadelphia 76ers'}, ['W', 'L']]\n",
    "# team stats is a dataframe\n",
    "def to_dataframe(daily_games, start_date, end_date, season):  # , mean_dict, std_dict):\n",
    "    full_dataframe = []\n",
    "    game_number = 0  # counter to match with the correct game\n",
    "    daily_results = daily_games[1]  # win or loss for each game\n",
    "    score = daily_games[2]\n",
    "    game_id = daily_games[3]\n",
    "\n",
    "    for home_team, away_team in daily_games[0].items():  # loops through matchups\n",
    "        home_team_stats = get_team_stats_dict(home_team, start_date, end_date, season)\n",
    "        away_team_stats = get_team_stats_dict(away_team, start_date, end_date, season)\n",
    "\n",
    "        current_game = [home_team, away_team]\n",
    "\n",
    "        current_game.append(game_id[game_number])\n",
    "\n",
    "        current_game.append(score.pop(0))\n",
    "\n",
    "        for stat, stat_type in available_stats.items():\n",
    "            current_game.append(home_team_stats[stat])\n",
    "\n",
    "        current_game.append(score.pop(0))\n",
    "\n",
    "        for stat, stat_type in available_stats.items():\n",
    "            current_game.append(away_team_stats[stat])\n",
    "\n",
    "        if daily_results[game_number] == 'W':\n",
    "            result = 1\n",
    "        else:\n",
    "            result = 0\n",
    "\n",
    "        current_game.append(result)\n",
    "        game_number += 1\n",
    "\n",
    "        print(current_game)\n",
    "\n",
    "        full_dataframe.append(current_game)\n",
    "\n",
    "    return full_dataframe\n",
    "\n",
    "\n",
    "def date_range(start_date, end_date):\n",
    "    for n in range(int((end_date - start_date).days)):\n",
    "        yield start_date + timedelta(n)\n",
    "\n",
    "\n",
    "def training_set(start_year, start_month, start_day, end_year, end_month, end_day, season, season_start):\n",
    "    start_date = date(start_year, start_month, start_day)\n",
    "    end_date = date(end_year, end_month, end_day)\n",
    "\n",
    "    total_games = []\n",
    "\n",
    "    for single_date in date_range(start_date, end_date):\n",
    "        current_date = single_date.strftime('%m/%d/%Y')\n",
    "        print(current_date)\n",
    "\n",
    "        previous_day = single_date - timedelta(days=1)\n",
    "        previous_day_formatted = previous_day.strftime('%m/%d/%Y')\n",
    "\n",
    "        current_day_games = get_match_results(current_date, season)\n",
    "        current_day_games_with_stats = to_dataframe(current_day_games, season_start, previous_day_formatted, season)\n",
    "\n",
    "        for game in current_day_games_with_stats:\n",
    "            game.append(current_date)\n",
    "            total_games.append(game)\n",
    "\n",
    "    print(total_games)\n",
    "    return total_games\n",
    "\n",
    "\n",
    "def make_dataframe(game_list):\n",
    "    games = pd.DataFrame(game_list,\n",
    "                         columns=['Home', 'Away', 'Game_ID', 'H_Score', 'H_W_PCT', 'H_FG_PCT', 'H_FG3_PCT', 'H_FT_PCT',\n",
    "                                  'H_REB', 'H_AST', 'H_TOV', 'H_STL',\n",
    "                                  'H_BLK', 'H_PLUS_MINUS', 'H_OFF_RATING', 'H_DEF_RATING', 'H_TS_PCT', 'A_Score',\n",
    "                                  'A_W_PCT', 'A_FG_PCT', 'A_FG3_PCT',\n",
    "                                  'A_FT_PCT', 'A_REB', 'A_AST', 'A_TOV', 'A_STL',\n",
    "                                  'A_BLK', 'A_PLUS_MINUS', 'A_OFF_RATING', 'A_DEF_RATING', 'A_TS_PCT', 'Result',\n",
    "                                  'Date'])\n",
    "\n",
    "    print(games)\n",
    "    return games\n",
    "\n",
    "\n",
    "def main():\n",
    "    attempts = 10\n",
    "\n",
    "    for i in range(attempts):\n",
    "        try:\n",
    "            #start day has to be at least three days after the start of the season\n",
    "            all_games = training_set(start_year=2021, start_month=10, start_day=22, end_year=2021, end_month=10,\n",
    "                                     end_day=30,\n",
    "                                     season='2021-22', season_start='10/21/2021')\n",
    "            df = make_dataframe(all_games)\n",
    "\n",
    "            print(df)\n",
    "            df.to_csv(r'C:\\Users\\alvaro\\OneDrive\\Documents\\School\\Flatiron\\Projects\\NBA_Prediction_Model\\data\\new_v0.csv', index=False)\n",
    "        except requests.exceptions.ReadTimeout or ValueError:\n",
    "            if i < attempts - 1:\n",
    "                continue\n",
    "            else:\n",
    "                raise\n",
    "        break\n",
    "\n",
    "\n",
    "if __name__ == '__main__':\n",
    "    main()"
   ]
  },
  {
   "cell_type": "code",
   "execution_count": 9,
   "metadata": {
    "scrolled": true
   },
   "outputs": [
    {
     "name": "stdout",
     "output_type": "stream",
     "text": [
      "10/22/2021\n",
      "['Cleveland Cavaliers', 'Charlotte Hornets', '0022100017', 112, 0.0, 0.505, 0.368, 0.722, 34.6, 36.5, 10.6, 5.8, 4.8, -10.6, 116.3, 125.7, 0.599, 123, 1.0, 0.43, 0.419, 0.667, 43.4, 27.4, 7.5, 8.5, 4.7, 0.9, 116.0, 114.0, 0.517, 0]\n",
      "['Orlando Magic', 'New York Knicks', '0022100018', 96, 0.0, 0.407, 0.31, 0.783, 46.3, 17.9, 16.8, 6.3, 6.3, -27.4, 102.1, 128.1, 0.505, 121, 1.0, 0.486, 0.378, 0.704, 44.0, 21.6, 15.2, 7.2, 8.0, 3.2, 110.4, 108.1, 0.59, 0]\n",
      "['Washington Wizards', 'Indiana Pacers', '0022100019', 135, 1.0, 0.444, 0.185, 0.808, 48.1, 18.9, 20.8, 13.2, 7.5, 14.2, 92.5, 77.6, 0.53, 134, 0.0, 0.467, 0.362, 0.875, 47.7, 27.1, 15.9, 1.9, 9.3, -0.9, 114.0, 116.0, 0.607, 1]\n",
      "['Boston Celtics', 'Toronto Raptors', '0022100020', 83, 0.0, 0.41, 0.368, 0.739, 45.2, 27.4, 14.5, 10.5, 7.3, -3.2, 108.1, 110.4, 0.527, 115, 0.0, 0.309, 0.206, 0.727, 50.5, 13.1, 17.8, 9.3, 3.7, -14.0, 77.6, 92.5, 0.389, 0]\n",
      "['Philadelphia 76ers', 'Brooklyn Nets', '0022100021', 109, 1.0, 0.518, 0.52, 0.8, 47.5, 24.2, 13.1, 9.1, 5.1, 20.2, 118.2, 98.0, 0.624, 114, 0.0, 0.44, 0.531, 0.565, 43.1, 18.6, 12.7, 2.9, 8.8, -22.5, 102.0, 124.5, 0.552, 0]\n",
      "['Chicago Bulls', 'New Orleans Pelicans', '0022100022', 128, 1.0, 0.43, 0.304, 0.867, 49.0, 18.4, 17.3, 8.2, 5.1, 6.1, 95.9, 89.8, 0.508, 112, 0.0, 0.419, 0.433, 0.667, 44.4, 28.3, 14.1, 5.1, 6.1, -20.2, 98.0, 118.2, 0.5, 1]\n",
      "['Houston Rockets', 'Oklahoma City Thunder', '0022100023', 124, 0.0, 0.455, 0.333, 0.682, 38.0, 19.4, 22.2, 12.0, 2.8, -16.7, 98.1, 114.8, 0.543, 91, 0.0, 0.374, 0.2, 0.611, 52.6, 20.0, 15.8, 4.2, 2.1, -22.1, 90.5, 111.5, 0.435, 1]\n",
      "['Denver Nuggets', 'San Antonio Spurs', '0022100024', 102, 1.0, 0.53, 0.436, 0.556, 45.5, 24.8, 18.8, 8.9, 1.0, 11.9, 108.9, 97.0, 0.632, 96, 1.0, 0.5, 0.433, 0.667, 44.8, 33.3, 8.3, 8.3, 3.1, 27.1, 128.1, 102.1, 0.581, 1]\n",
      "['Los Angeles Lakers', 'Phoenix Suns', '0022100025', 105, 0.0, 0.474, 0.357, 0.474, 40.2, 18.8, 16.1, 6.3, 3.6, -6.3, 101.8, 107.1, 0.551, 115, 0.0, 0.414, 0.378, 0.706, 44.6, 22.8, 17.8, 8.9, 3.0, -11.9, 97.0, 108.9, 0.519, 0]\n",
      "['Sacramento Kings', 'Utah Jazz', '0022100026', 101, 1.0, 0.457, 0.415, 0.793, 40.6, 22.6, 9.4, 5.7, 3.8, 2.8, 117.0, 114.2, 0.592, 110, 1.0, 0.44, 0.298, 0.867, 55.2, 18.8, 10.4, 6.3, 5.2, 21.9, 111.5, 90.5, 0.548, 0]\n",
      "10/23/2021\n",
      "['Cleveland Cavaliers', 'Atlanta Hawks', '0022100027', 101, 0.0, 0.508, 0.333, 0.789, 34.3, 30.5, 14.3, 7.1, 3.8, -10.5, 111.0, 120.9, 0.601, 95, 1.0, 0.479, 0.429, 0.889, 52.9, 29.8, 12.5, 7.7, 8.7, 25.0, 108.7, 83.7, 0.577, 1]\n",
      "['Indiana Pacers', 'Miami Heat', '0022100028', 102, 0.0, 0.503, 0.395, 0.818, 43.9, 26.9, 13.7, 3.3, 7.5, -0.9, 120.8, 122.3, 0.62, 91, 1.0, 0.531, 0.429, 0.645, 54.2, 26.2, 10.3, 7.5, 1.9, 39.3, 128.0, 90.5, 0.625, 1]\n",
      "['Toronto Raptors', 'Dallas Mavericks', '0022100029', 95, 0.5, 0.365, 0.246, 0.86, 54.8, 17.3, 14.9, 12.5, 2.9, 8.2, 95.2, 87.4, 0.459, 103, 0.0, 0.333, 0.302, 0.923, 48.1, 15.4, 14.4, 6.7, 2.9, -25.0, 83.7, 108.7, 0.441, 0]\n",
      "['Chicago Bulls', 'Detroit Pistons', '0022100030', 97, 1.0, 0.48, 0.412, 0.825, 46.8, 24.9, 15.4, 8.5, 6.0, 10.9, 110.4, 99.5, 0.576, 82, 0.0, 0.4, 0.214, 0.769, 48.0, 17.3, 17.3, 7.1, 5.1, -6.1, 89.8, 95.9, 0.46, 1]\n",
      "['Minnesota Timberwolves', 'New Orleans Pelicans', '0022100031', 96, 1.0, 0.483, 0.421, 0.774, 42.6, 24.1, 16.7, 16.7, 11.1, 16.7, 114.8, 98.1, 0.616, 89, 0.0, 0.45, 0.475, 0.76, 42.6, 26.7, 15.3, 5.9, 5.4, -17.8, 103.5, 121.3, 0.547, 1]\n",
      "['San Antonio Spurs', 'Milwaukee Bucks', '0022100032', 111, 0.5, 0.489, 0.352, 0.688, 41.4, 28.3, 14.1, 9.6, 2.5, 10.1, 110.6, 100.5, 0.558, 121, 0.5, 0.423, 0.333, 0.702, 44.4, 21.3, 11.1, 6.8, 4.3, -9.2, 107.2, 115.3, 0.529, 0]\n",
      "['Portland Trail Blazers', 'Phoenix Suns', '0022100033', 134, 0.0, 0.484, 0.343, 0.864, 46.2, 23.6, 12.3, 4.7, 4.7, -2.8, 114.2, 117.0, 0.589, 105, 0.5, 0.451, 0.348, 0.733, 45.3, 26.6, 14.8, 8.4, 2.5, -1.0, 104.9, 107.0, 0.552, 1]\n",
      "['LA Clippers', 'Memphis Grizzlies', '0022100034', 114, 0.0, 0.438, 0.35, 0.714, 37.5, 23.1, 6.7, 8.7, 1.9, -1.9, 108.7, 112.7, 0.537, 120, 1.0, 0.53, 0.424, 1.0, 50.5, 26.7, 11.4, 7.6, 7.6, 10.5, 125.7, 116.3, 0.627, 0]\n",
      "10/24/2021\n",
      "['Brooklyn Nets', 'Charlotte Hornets', '0022100035', 95, 0.5, 0.453, 0.414, 0.702, 45.7, 22.6, 13.1, 4.5, 7.5, -9.0, 109.5, 118.6, 0.566, 111, 1.0, 0.475, 0.413, 0.727, 43.4, 28.8, 12.3, 10.4, 2.8, 5.7, 116.0, 109.9, 0.566, 0]\n",
      "['Oklahoma City Thunder', 'Philadelphia 76ers', '0022100038', 103, 0.0, 0.374, 0.269, 0.588, 44.9, 20.7, 17.2, 6.6, 3.0, -27.3, 89.4, 114.9, 0.449, 115, 0.5, 0.494, 0.443, 0.806, 41.8, 20.9, 11.7, 8.7, 7.1, 7.7, 115.3, 107.7, 0.596, 0]\n",
      "['Houston Rockets', 'Boston Celtics', '0022100037', 97, 0.5, 0.481, 0.394, 0.722, 44.6, 23.5, 19.2, 11.7, 6.1, 7.0, 108.0, 101.9, 0.578, 107, 0.0, 0.402, 0.352, 0.735, 43.6, 23.6, 19.1, 8.4, 9.3, -16.0, 96.4, 111.9, 0.507, 0]\n",
      "['New York Knicks', 'Orlando Magic', '0022100036', 104, 1.0, 0.492, 0.414, 0.636, 41.7, 27.4, 13.5, 8.5, 6.3, 13.0, 116.1, 104.1, 0.61, 110, 0.0, 0.402, 0.361, 0.816, 46.9, 21.4, 18.2, 5.7, 4.7, -26.6, 100.5, 125.8, 0.52, 0]\n",
      "['Sacramento Kings', 'Golden State Warriors', '0022100039', 107, 0.5, 0.424, 0.325, 0.76, 45.5, 21.1, 12.0, 10.0, 4.3, -2.9, 107.7, 110.5, 0.528, 119, 1.0, 0.477, 0.414, 0.75, 47.9, 26.5, 17.7, 6.5, 2.8, 4.2, 109.8, 105.1, 0.593, 0]\n",
      "['Los Angeles Lakers', 'Memphis Grizzlies', '0022100040', 121, 0.0, 0.436, 0.395, 0.646, 42.9, 21.7, 16.0, 6.6, 3.3, -8.0, 103.3, 109.8, 0.542, 118, 1.0, 0.5, 0.42, 0.892, 49.5, 26.5, 11.3, 6.4, 5.4, 8.3, 123.5, 116.3, 0.611, 1]\n",
      "10/25/2021\n",
      "['Charlotte Hornets', 'Boston Celtics', '0022100041', 129, 1.0, 0.469, 0.387, 0.746, 44.7, 27.8, 12.1, 10.2, 3.5, 8.9, 114.1, 104.4, 0.558, 140, 0.333, 0.414, 0.341, 0.759, 43.3, 23.0, 16.9, 8.9, 8.3, -8.0, 99.4, 107.7, 0.525, 0]\n",
      "['Brooklyn Nets', 'Washington Wizards', '0022100044', 104, 0.333, 0.448, 0.362, 0.729, 44.9, 20.9, 14.3, 6.3, 7.6, -11.3, 104.0, 115.7, 0.549, 90, 1.0, 0.486, 0.369, 0.867, 42.2, 20.9, 14.7, 9.0, 6.6, 7.6, 110.4, 102.4, 0.598, 1]\n",
      "['Toronto Raptors', 'Chicago Bulls', '0022100046', 108, 0.333, 0.376, 0.264, 0.803, 54.2, 17.6, 14.3, 11.0, 4.0, 3.0, 97.3, 94.7, 0.471, 111, 1.0, 0.459, 0.416, 0.831, 44.9, 24.4, 14.5, 9.9, 7.6, 12.2, 105.3, 93.7, 0.56, 0]\n",
      "['Miami Heat', 'Orlando Magic', '0022100045', 107, 0.5, 0.46, 0.353, 0.711, 52.6, 21.4, 15.3, 5.6, 1.9, 14.4, 106.0, 93.4, 0.551, 90, 0.333, 0.405, 0.33, 0.792, 49.8, 21.4, 16.3, 6.1, 4.4, -15.3, 102.7, 117.2, 0.525, 1]\n",
      "['Indiana Pacers', 'Milwaukee Bucks', '0022100042', 109, 0.333, 0.465, 0.35, 0.8, 46.5, 23.6, 14.2, 5.3, 6.6, 2.8, 112.6, 109.4, 0.573, 119, 0.667, 0.456, 0.361, 0.739, 43.9, 21.0, 14.5, 6.5, 4.5, -2.9, 110.6, 112.8, 0.567, 0]\n",
      "['LA Clippers', 'Portland Trail Blazers', '0022100049', 116, 0.0, 0.436, 0.342, 0.789, 41.1, 23.3, 6.9, 7.9, 3.0, -4.0, 112.4, 116.9, 0.536, 86, 0.5, 0.513, 0.388, 0.769, 46.6, 23.6, 10.6, 6.3, 4.8, 12.5, 122.6, 110.1, 0.625, 1]\n",
      "['Minnesota Timberwolves', 'New Orleans Pelicans', '0022100047', 98, 1.0, 0.443, 0.368, 0.732, 43.5, 22.4, 17.8, 14.5, 9.3, 11.7, 102.8, 91.5, 0.547, 107, 0.0, 0.416, 0.374, 0.771, 47.9, 22.5, 19.9, 7.2, 5.2, -14.0, 97.1, 110.7, 0.514, 0]\n",
      "['Denver Nuggets', 'Cleveland Cavaliers', '0022100048', 87, 1.0, 0.521, 0.377, 0.588, 42.6, 25.0, 19.6, 9.3, 1.5, 8.8, 103.9, 95.6, 0.601, 99, 0.333, 0.477, 0.309, 0.769, 41.0, 28.3, 13.0, 6.8, 4.6, -5.2, 108.8, 113.6, 0.567, 0]\n",
      "['Atlanta Hawks', 'Detroit Pistons', '0022100043', 122, 0.5, 0.43, 0.362, 0.708, 54.2, 25.4, 10.9, 6.5, 6.0, 10.0, 103.5, 93.5, 0.511, 104, 0.0, 0.393, 0.196, 0.679, 50.5, 15.7, 20.2, 8.1, 6.6, -10.6, 85.9, 95.5, 0.447, 1]\n",
      "10/26/2021\n",
      "['New York Knicks', 'Philadelphia 76ers', '0022100050', 112, 0.667, 0.451, 0.367, 0.652, 44.5, 24.8, 12.9, 8.3, 6.7, 7.1, 111.3, 104.9, 0.561, 99, 0.667, 0.485, 0.431, 0.804, 44.0, 22.5, 11.9, 7.2, 7.8, 9.2, 116.4, 107.2, 0.595, 1]\n",
      "['Dallas Mavericks', 'Houston Rockets', '0022100052', 116, 0.5, 0.375, 0.318, 0.806, 50.8, 20.3, 12.2, 6.6, 4.6, -9.1, 96.4, 105.6, 0.481, 106, 0.333, 0.465, 0.408, 0.75, 43.3, 22.4, 19.6, 10.3, 5.4, 1.6, 104.8, 103.2, 0.575, 1]\n",
      "['San Antonio Spurs', 'Los Angeles Lakers', '0022100053', 121, 0.333, 0.488, 0.312, 0.711, 39.9, 28.2, 13.6, 9.6, 3.0, 3.3, 109.6, 106.3, 0.554, 125, 0.333, 0.468, 0.434, 0.657, 40.4, 23.9, 16.2, 7.6, 6.1, -4.5, 108.3, 112.0, 0.575, 0]\n"
     ]
    },
    {
     "name": "stdout",
     "output_type": "stream",
     "text": [
      "['Utah Jazz', 'Denver Nuggets', '0022100054', 122, 1.0, 0.425, 0.337, 0.868, 52.3, 17.1, 14.6, 10.1, 4.0, 15.1, 109.0, 94.4, 0.549, 110, 0.667, 0.482, 0.327, 0.621, 44.4, 23.8, 20.5, 9.6, 2.0, 2.0, 99.0, 97.7, 0.558, 1]\n",
      "['Oklahoma City Thunder', 'Golden State Warriors', '0022100051', 98, 0.0, 0.406, 0.266, 0.66, 44.4, 22.0, 15.3, 7.5, 3.4, -22.4, 94.9, 116.1, 0.484, 106, 1.0, 0.465, 0.393, 0.776, 46.3, 26.3, 14.3, 8.3, 2.9, 6.7, 112.7, 105.4, 0.579, 0]\n",
      "10/27/2021\n",
      "['Orlando Magic', 'Charlotte Hornets', '0022100055', 111, 0.25, 0.405, 0.314, 0.758, 47.2, 21.3, 16.8, 6.3, 4.8, -15.7, 99.7, 115.5, 0.52, 120, 0.75, 0.463, 0.401, 0.714, 45.1, 26.5, 12.2, 8.5, 4.0, 4.0, 114.1, 109.1, 0.559, 0]\n",
      "['Brooklyn Nets', 'Miami Heat', '0022100057', 93, 0.5, 0.442, 0.343, 0.75, 46.8, 21.3, 12.9, 6.2, 6.7, -5.0, 103.2, 108.2, 0.54, 106, 0.667, 0.464, 0.316, 0.797, 49.7, 23.7, 14.1, 7.1, 1.9, 15.4, 107.4, 92.6, 0.554, 0]\n",
      "['New Orleans Pelicans', 'Atlanta Hawks', '0022100059', 99, 0.25, 0.424, 0.364, 0.789, 50.7, 21.6, 19.9, 6.6, 5.1, -8.3, 99.3, 107.1, 0.523, 102, 0.667, 0.456, 0.366, 0.778, 51.8, 24.6, 12.5, 7.9, 4.9, 12.5, 108.2, 96.1, 0.545, 0]\n",
      "['Toronto Raptors', 'Indiana Pacers', '0022100058', 118, 0.25, 0.4, 0.294, 0.802, 52.5, 20.0, 16.0, 10.3, 3.3, 1.5, 100.3, 99.5, 0.498, 100, 0.25, 0.46, 0.359, 0.817, 45.9, 23.1, 15.1, 5.4, 5.2, -0.2, 109.9, 110.4, 0.569, 1]\n",
      "['Milwaukee Bucks', 'Minnesota Timberwolves', '0022100060', 108, 0.75, 0.462, 0.357, 0.77, 42.9, 21.4, 14.2, 8.0, 4.8, 0.2, 111.3, 110.0, 0.576, 113, 0.667, 0.41, 0.341, 0.75, 42.4, 21.5, 15.5, 13.0, 8.5, 5.1, 100.6, 96.2, 0.525, 0]\n",
      "['Oklahoma City Thunder', 'Los Angeles Lakers', '0022100061', 123, 0.0, 0.409, 0.287, 0.7, 44.0, 21.4, 15.0, 7.4, 3.3, -18.8, 96.2, 113.9, 0.494, 115, 0.5, 0.47, 0.397, 0.685, 42.3, 21.9, 14.8, 7.4, 6.7, -2.3, 107.4, 110.0, 0.566, 1]\n",
      "['Phoenix Suns', 'Sacramento Kings', '0022100062', 107, 0.333, 0.462, 0.34, 0.717, 42.6, 26.6, 14.4, 7.5, 2.0, -10.2, 104.3, 115.2, 0.551, 110, 0.333, 0.444, 0.325, 0.73, 45.8, 22.6, 14.2, 6.8, 4.2, -5.8, 107.1, 113.3, 0.545, 0]\n",
      "['Boston Celtics', 'Washington Wizards', '0022100056', 107, 0.5, 0.435, 0.351, 0.785, 44.0, 24.5, 15.2, 8.4, 8.2, -3.4, 105.2, 109.4, 0.551, 116, 0.667, 0.437, 0.317, 0.831, 45.1, 19.0, 13.7, 7.6, 6.0, 0.6, 102.5, 101.9, 0.541, 0]\n",
      "['Portland Trail Blazers', 'Memphis Grizzlies', '0022100063', 116, 0.333, 0.471, 0.336, 0.772, 44.7, 19.9, 16.1, 7.5, 4.3, -1.2, 105.9, 106.8, 0.574, 96, 0.667, 0.483, 0.404, 0.873, 49.2, 25.9, 13.1, 8.5, 4.9, 4.6, 121.3, 117.1, 0.589, 1]\n",
      "['LA Clippers', 'Cleveland Cavaliers', '0022100064', 79, 0.333, 0.448, 0.336, 0.772, 39.7, 26.5, 9.8, 11.7, 3.8, 6.9, 108.2, 101.9, 0.548, 92, 0.5, 0.474, 0.303, 0.776, 43.3, 28.0, 13.9, 7.2, 4.7, -1.0, 107.2, 107.6, 0.562, 0]\n",
      "10/28/2021\n",
      "['Washington Wizards', 'Atlanta Hawks', '0022100066', 122, 0.75, 0.455, 0.326, 0.798, 45.5, 18.8, 14.2, 7.7, 6.3, 2.7, 105.8, 103.4, 0.555, 111, 0.75, 0.446, 0.344, 0.79, 53.3, 24.0, 12.3, 7.0, 4.8, 10.3, 108.0, 98.0, 0.532, 1]\n",
      "['Philadelphia 76ers', 'Detroit Pistons', '0022100065', 110, 0.5, 0.474, 0.392, 0.824, 43.8, 23.3, 13.0, 7.8, 7.0, 3.6, 114.0, 110.1, 0.585, 102, 0.0, 0.409, 0.225, 0.739, 45.2, 18.9, 17.9, 7.6, 6.3, -13.0, 91.0, 103.0, 0.474, 1]\n",
      "['Houston Rockets', 'Utah Jazz', '0022100068', 91, 0.25, 0.453, 0.408, 0.733, 44.1, 22.5, 18.7, 9.4, 4.8, -1.2, 103.8, 105.0, 0.567, 122, 1.0, 0.455, 0.328, 0.821, 48.3, 18.0, 14.3, 8.3, 4.7, 14.0, 113.0, 99.0, 0.574, 0]\n",
      "['Chicago Bulls', 'New York Knicks', '0022100067', 103, 1.0, 0.465, 0.423, 0.864, 41.3, 24.5, 14.3, 10.3, 6.5, 10.0, 107.5, 97.5, 0.572, 104, 0.75, 0.455, 0.38, 0.702, 45.2, 25.0, 13.6, 8.1, 6.4, 8.6, 113.1, 105.3, 0.57, 0]\n",
      "['Dallas Mavericks', 'San Antonio Spurs', '0022100069', 104, 0.667, 0.404, 0.305, 0.768, 49.7, 21.5, 12.9, 7.3, 5.3, -2.6, 101.3, 104.0, 0.507, 99, 0.25, 0.476, 0.326, 0.65, 42.9, 28.3, 13.7, 9.4, 3.6, 1.4, 108.2, 106.0, 0.543, 1]\n",
      "['Golden State Warriors', 'Memphis Grizzlies', '0022100070', 101, 1.0, 0.466, 0.381, 0.777, 46.4, 27.3, 14.5, 8.5, 4.1, 7.0, 111.4, 104.1, 0.58, 104, 0.5, 0.453, 0.383, 0.77, 49.4, 26.2, 15.3, 8.6, 4.4, -1.5, 115.1, 117.1, 0.557, 0]\n",
      "10/29/2021\n",
      "['Toronto Raptors', 'Orlando Magic', '0022100071', 110, 0.4, 0.413, 0.325, 0.771, 50.5, 20.5, 15.3, 11.9, 3.8, 4.8, 104.4, 100.2, 0.508, 109, 0.2, 0.423, 0.327, 0.76, 44.2, 21.4, 17.1, 6.3, 4.2, -14.3, 101.6, 115.9, 0.534, 1]\n",
      "['Miami Heat', 'Charlotte Hornets', '0022100073', 114, 0.75, 0.446, 0.306, 0.811, 52.4, 22.9, 14.3, 6.8, 1.9, 14.7, 106.5, 92.0, 0.538, 99, 0.8, 0.473, 0.413, 0.739, 43.9, 25.6, 13.1, 9.5, 4.0, 4.9, 114.8, 109.0, 0.573, 1]\n",
      "['Brooklyn Nets', 'Indiana Pacers', '0022100072', 105, 0.4, 0.432, 0.339, 0.778, 45.6, 21.1, 13.4, 6.3, 6.7, -6.5, 100.6, 107.3, 0.534, 98, 0.2, 0.464, 0.357, 0.818, 45.0, 22.4, 16.7, 5.6, 5.6, -3.6, 108.6, 112.5, 0.571, 1]\n",
      "['New Orleans Pelicans', 'Sacramento Kings', '0022100074', 109, 0.2, 0.425, 0.352, 0.8, 49.9, 22.3, 18.1, 6.4, 5.4, -7.4, 100.2, 107.1, 0.52, 113, 0.5, 0.444, 0.342, 0.731, 44.4, 23.9, 13.7, 6.8, 4.6, -3.7, 107.8, 111.2, 0.544, 0]\n",
      "['Portland Trail Blazers', 'LA Clippers', '0022100076', 111, 0.5, 0.469, 0.354, 0.761, 45.6, 20.4, 15.7, 8.3, 4.8, 3.8, 108.6, 104.3, 0.579, 92, 0.25, 0.427, 0.307, 0.743, 39.2, 24.9, 10.9, 12.1, 3.4, 2.2, 102.2, 100.5, 0.52, 1]\n",
      "['Denver Nuggets', 'Dallas Mavericks', '0022100075', 106, 0.5, 0.488, 0.333, 0.642, 41.8, 22.5, 18.6, 9.4, 2.2, -1.5, 101.2, 103.5, 0.566, 75, 0.75, 0.418, 0.329, 0.681, 49.0, 20.9, 13.1, 6.5, 5.8, -0.8, 103.0, 103.8, 0.517, 1]\n",
      "['Los Angeles Lakers', 'Cleveland Cavaliers', '0022100077', 113, 0.4, 0.476, 0.38, 0.708, 41.5, 23.1, 15.1, 7.4, 5.8, -3.4, 108.0, 111.4, 0.57, 101, 0.6, 0.462, 0.282, 0.795, 46.4, 25.0, 15.4, 7.6, 4.4, 1.8, 105.0, 102.8, 0.549, 1]\n",
      "[['Cleveland Cavaliers', 'Charlotte Hornets', '0022100017', 112, 0.0, 0.505, 0.368, 0.722, 34.6, 36.5, 10.6, 5.8, 4.8, -10.6, 116.3, 125.7, 0.599, 123, 1.0, 0.43, 0.419, 0.667, 43.4, 27.4, 7.5, 8.5, 4.7, 0.9, 116.0, 114.0, 0.517, 0, '10/22/2021'], ['Orlando Magic', 'New York Knicks', '0022100018', 96, 0.0, 0.407, 0.31, 0.783, 46.3, 17.9, 16.8, 6.3, 6.3, -27.4, 102.1, 128.1, 0.505, 121, 1.0, 0.486, 0.378, 0.704, 44.0, 21.6, 15.2, 7.2, 8.0, 3.2, 110.4, 108.1, 0.59, 0, '10/22/2021'], ['Washington Wizards', 'Indiana Pacers', '0022100019', 135, 1.0, 0.444, 0.185, 0.808, 48.1, 18.9, 20.8, 13.2, 7.5, 14.2, 92.5, 77.6, 0.53, 134, 0.0, 0.467, 0.362, 0.875, 47.7, 27.1, 15.9, 1.9, 9.3, -0.9, 114.0, 116.0, 0.607, 1, '10/22/2021'], ['Boston Celtics', 'Toronto Raptors', '0022100020', 83, 0.0, 0.41, 0.368, 0.739, 45.2, 27.4, 14.5, 10.5, 7.3, -3.2, 108.1, 110.4, 0.527, 115, 0.0, 0.309, 0.206, 0.727, 50.5, 13.1, 17.8, 9.3, 3.7, -14.0, 77.6, 92.5, 0.389, 0, '10/22/2021'], ['Philadelphia 76ers', 'Brooklyn Nets', '0022100021', 109, 1.0, 0.518, 0.52, 0.8, 47.5, 24.2, 13.1, 9.1, 5.1, 20.2, 118.2, 98.0, 0.624, 114, 0.0, 0.44, 0.531, 0.565, 43.1, 18.6, 12.7, 2.9, 8.8, -22.5, 102.0, 124.5, 0.552, 0, '10/22/2021'], ['Chicago Bulls', 'New Orleans Pelicans', '0022100022', 128, 1.0, 0.43, 0.304, 0.867, 49.0, 18.4, 17.3, 8.2, 5.1, 6.1, 95.9, 89.8, 0.508, 112, 0.0, 0.419, 0.433, 0.667, 44.4, 28.3, 14.1, 5.1, 6.1, -20.2, 98.0, 118.2, 0.5, 1, '10/22/2021'], ['Houston Rockets', 'Oklahoma City Thunder', '0022100023', 124, 0.0, 0.455, 0.333, 0.682, 38.0, 19.4, 22.2, 12.0, 2.8, -16.7, 98.1, 114.8, 0.543, 91, 0.0, 0.374, 0.2, 0.611, 52.6, 20.0, 15.8, 4.2, 2.1, -22.1, 90.5, 111.5, 0.435, 1, '10/22/2021'], ['Denver Nuggets', 'San Antonio Spurs', '0022100024', 102, 1.0, 0.53, 0.436, 0.556, 45.5, 24.8, 18.8, 8.9, 1.0, 11.9, 108.9, 97.0, 0.632, 96, 1.0, 0.5, 0.433, 0.667, 44.8, 33.3, 8.3, 8.3, 3.1, 27.1, 128.1, 102.1, 0.581, 1, '10/22/2021'], ['Los Angeles Lakers', 'Phoenix Suns', '0022100025', 105, 0.0, 0.474, 0.357, 0.474, 40.2, 18.8, 16.1, 6.3, 3.6, -6.3, 101.8, 107.1, 0.551, 115, 0.0, 0.414, 0.378, 0.706, 44.6, 22.8, 17.8, 8.9, 3.0, -11.9, 97.0, 108.9, 0.519, 0, '10/22/2021'], ['Sacramento Kings', 'Utah Jazz', '0022100026', 101, 1.0, 0.457, 0.415, 0.793, 40.6, 22.6, 9.4, 5.7, 3.8, 2.8, 117.0, 114.2, 0.592, 110, 1.0, 0.44, 0.298, 0.867, 55.2, 18.8, 10.4, 6.3, 5.2, 21.9, 111.5, 90.5, 0.548, 0, '10/22/2021'], ['Cleveland Cavaliers', 'Atlanta Hawks', '0022100027', 101, 0.0, 0.508, 0.333, 0.789, 34.3, 30.5, 14.3, 7.1, 3.8, -10.5, 111.0, 120.9, 0.601, 95, 1.0, 0.479, 0.429, 0.889, 52.9, 29.8, 12.5, 7.7, 8.7, 25.0, 108.7, 83.7, 0.577, 1, '10/23/2021'], ['Indiana Pacers', 'Miami Heat', '0022100028', 102, 0.0, 0.503, 0.395, 0.818, 43.9, 26.9, 13.7, 3.3, 7.5, -0.9, 120.8, 122.3, 0.62, 91, 1.0, 0.531, 0.429, 0.645, 54.2, 26.2, 10.3, 7.5, 1.9, 39.3, 128.0, 90.5, 0.625, 1, '10/23/2021'], ['Toronto Raptors', 'Dallas Mavericks', '0022100029', 95, 0.5, 0.365, 0.246, 0.86, 54.8, 17.3, 14.9, 12.5, 2.9, 8.2, 95.2, 87.4, 0.459, 103, 0.0, 0.333, 0.302, 0.923, 48.1, 15.4, 14.4, 6.7, 2.9, -25.0, 83.7, 108.7, 0.441, 0, '10/23/2021'], ['Chicago Bulls', 'Detroit Pistons', '0022100030', 97, 1.0, 0.48, 0.412, 0.825, 46.8, 24.9, 15.4, 8.5, 6.0, 10.9, 110.4, 99.5, 0.576, 82, 0.0, 0.4, 0.214, 0.769, 48.0, 17.3, 17.3, 7.1, 5.1, -6.1, 89.8, 95.9, 0.46, 1, '10/23/2021'], ['Minnesota Timberwolves', 'New Orleans Pelicans', '0022100031', 96, 1.0, 0.483, 0.421, 0.774, 42.6, 24.1, 16.7, 16.7, 11.1, 16.7, 114.8, 98.1, 0.616, 89, 0.0, 0.45, 0.475, 0.76, 42.6, 26.7, 15.3, 5.9, 5.4, -17.8, 103.5, 121.3, 0.547, 1, '10/23/2021'], ['San Antonio Spurs', 'Milwaukee Bucks', '0022100032', 111, 0.5, 0.489, 0.352, 0.688, 41.4, 28.3, 14.1, 9.6, 2.5, 10.1, 110.6, 100.5, 0.558, 121, 0.5, 0.423, 0.333, 0.702, 44.4, 21.3, 11.1, 6.8, 4.3, -9.2, 107.2, 115.3, 0.529, 0, '10/23/2021'], ['Portland Trail Blazers', 'Phoenix Suns', '0022100033', 134, 0.0, 0.484, 0.343, 0.864, 46.2, 23.6, 12.3, 4.7, 4.7, -2.8, 114.2, 117.0, 0.589, 105, 0.5, 0.451, 0.348, 0.733, 45.3, 26.6, 14.8, 8.4, 2.5, -1.0, 104.9, 107.0, 0.552, 1, '10/23/2021'], ['LA Clippers', 'Memphis Grizzlies', '0022100034', 114, 0.0, 0.438, 0.35, 0.714, 37.5, 23.1, 6.7, 8.7, 1.9, -1.9, 108.7, 112.7, 0.537, 120, 1.0, 0.53, 0.424, 1.0, 50.5, 26.7, 11.4, 7.6, 7.6, 10.5, 125.7, 116.3, 0.627, 0, '10/23/2021'], ['Brooklyn Nets', 'Charlotte Hornets', '0022100035', 95, 0.5, 0.453, 0.414, 0.702, 45.7, 22.6, 13.1, 4.5, 7.5, -9.0, 109.5, 118.6, 0.566, 111, 1.0, 0.475, 0.413, 0.727, 43.4, 28.8, 12.3, 10.4, 2.8, 5.7, 116.0, 109.9, 0.566, 0, '10/24/2021'], ['Oklahoma City Thunder', 'Philadelphia 76ers', '0022100038', 103, 0.0, 0.374, 0.269, 0.588, 44.9, 20.7, 17.2, 6.6, 3.0, -27.3, 89.4, 114.9, 0.449, 115, 0.5, 0.494, 0.443, 0.806, 41.8, 20.9, 11.7, 8.7, 7.1, 7.7, 115.3, 107.7, 0.596, 0, '10/24/2021'], ['Houston Rockets', 'Boston Celtics', '0022100037', 97, 0.5, 0.481, 0.394, 0.722, 44.6, 23.5, 19.2, 11.7, 6.1, 7.0, 108.0, 101.9, 0.578, 107, 0.0, 0.402, 0.352, 0.735, 43.6, 23.6, 19.1, 8.4, 9.3, -16.0, 96.4, 111.9, 0.507, 0, '10/24/2021'], ['New York Knicks', 'Orlando Magic', '0022100036', 104, 1.0, 0.492, 0.414, 0.636, 41.7, 27.4, 13.5, 8.5, 6.3, 13.0, 116.1, 104.1, 0.61, 110, 0.0, 0.402, 0.361, 0.816, 46.9, 21.4, 18.2, 5.7, 4.7, -26.6, 100.5, 125.8, 0.52, 0, '10/24/2021'], ['Sacramento Kings', 'Golden State Warriors', '0022100039', 107, 0.5, 0.424, 0.325, 0.76, 45.5, 21.1, 12.0, 10.0, 4.3, -2.9, 107.7, 110.5, 0.528, 119, 1.0, 0.477, 0.414, 0.75, 47.9, 26.5, 17.7, 6.5, 2.8, 4.2, 109.8, 105.1, 0.593, 0, '10/24/2021'], ['Los Angeles Lakers', 'Memphis Grizzlies', '0022100040', 121, 0.0, 0.436, 0.395, 0.646, 42.9, 21.7, 16.0, 6.6, 3.3, -8.0, 103.3, 109.8, 0.542, 118, 1.0, 0.5, 0.42, 0.892, 49.5, 26.5, 11.3, 6.4, 5.4, 8.3, 123.5, 116.3, 0.611, 1, '10/24/2021'], ['Charlotte Hornets', 'Boston Celtics', '0022100041', 129, 1.0, 0.469, 0.387, 0.746, 44.7, 27.8, 12.1, 10.2, 3.5, 8.9, 114.1, 104.4, 0.558, 140, 0.333, 0.414, 0.341, 0.759, 43.3, 23.0, 16.9, 8.9, 8.3, -8.0, 99.4, 107.7, 0.525, 0, '10/25/2021'], ['Brooklyn Nets', 'Washington Wizards', '0022100044', 104, 0.333, 0.448, 0.362, 0.729, 44.9, 20.9, 14.3, 6.3, 7.6, -11.3, 104.0, 115.7, 0.549, 90, 1.0, 0.486, 0.369, 0.867, 42.2, 20.9, 14.7, 9.0, 6.6, 7.6, 110.4, 102.4, 0.598, 1, '10/25/2021'], ['Toronto Raptors', 'Chicago Bulls', '0022100046', 108, 0.333, 0.376, 0.264, 0.803, 54.2, 17.6, 14.3, 11.0, 4.0, 3.0, 97.3, 94.7, 0.471, 111, 1.0, 0.459, 0.416, 0.831, 44.9, 24.4, 14.5, 9.9, 7.6, 12.2, 105.3, 93.7, 0.56, 0, '10/25/2021'], ['Miami Heat', 'Orlando Magic', '0022100045', 107, 0.5, 0.46, 0.353, 0.711, 52.6, 21.4, 15.3, 5.6, 1.9, 14.4, 106.0, 93.4, 0.551, 90, 0.333, 0.405, 0.33, 0.792, 49.8, 21.4, 16.3, 6.1, 4.4, -15.3, 102.7, 117.2, 0.525, 1, '10/25/2021'], ['Indiana Pacers', 'Milwaukee Bucks', '0022100042', 109, 0.333, 0.465, 0.35, 0.8, 46.5, 23.6, 14.2, 5.3, 6.6, 2.8, 112.6, 109.4, 0.573, 119, 0.667, 0.456, 0.361, 0.739, 43.9, 21.0, 14.5, 6.5, 4.5, -2.9, 110.6, 112.8, 0.567, 0, '10/25/2021'], ['LA Clippers', 'Portland Trail Blazers', '0022100049', 116, 0.0, 0.436, 0.342, 0.789, 41.1, 23.3, 6.9, 7.9, 3.0, -4.0, 112.4, 116.9, 0.536, 86, 0.5, 0.513, 0.388, 0.769, 46.6, 23.6, 10.6, 6.3, 4.8, 12.5, 122.6, 110.1, 0.625, 1, '10/25/2021'], ['Minnesota Timberwolves', 'New Orleans Pelicans', '0022100047', 98, 1.0, 0.443, 0.368, 0.732, 43.5, 22.4, 17.8, 14.5, 9.3, 11.7, 102.8, 91.5, 0.547, 107, 0.0, 0.416, 0.374, 0.771, 47.9, 22.5, 19.9, 7.2, 5.2, -14.0, 97.1, 110.7, 0.514, 0, '10/25/2021'], ['Denver Nuggets', 'Cleveland Cavaliers', '0022100048', 87, 1.0, 0.521, 0.377, 0.588, 42.6, 25.0, 19.6, 9.3, 1.5, 8.8, 103.9, 95.6, 0.601, 99, 0.333, 0.477, 0.309, 0.769, 41.0, 28.3, 13.0, 6.8, 4.6, -5.2, 108.8, 113.6, 0.567, 0, '10/25/2021'], ['Atlanta Hawks', 'Detroit Pistons', '0022100043', 122, 0.5, 0.43, 0.362, 0.708, 54.2, 25.4, 10.9, 6.5, 6.0, 10.0, 103.5, 93.5, 0.511, 104, 0.0, 0.393, 0.196, 0.679, 50.5, 15.7, 20.2, 8.1, 6.6, -10.6, 85.9, 95.5, 0.447, 1, '10/25/2021'], ['New York Knicks', 'Philadelphia 76ers', '0022100050', 112, 0.667, 0.451, 0.367, 0.652, 44.5, 24.8, 12.9, 8.3, 6.7, 7.1, 111.3, 104.9, 0.561, 99, 0.667, 0.485, 0.431, 0.804, 44.0, 22.5, 11.9, 7.2, 7.8, 9.2, 116.4, 107.2, 0.595, 1, '10/26/2021'], ['Dallas Mavericks', 'Houston Rockets', '0022100052', 116, 0.5, 0.375, 0.318, 0.806, 50.8, 20.3, 12.2, 6.6, 4.6, -9.1, 96.4, 105.6, 0.481, 106, 0.333, 0.465, 0.408, 0.75, 43.3, 22.4, 19.6, 10.3, 5.4, 1.6, 104.8, 103.2, 0.575, 1, '10/26/2021'], ['San Antonio Spurs', 'Los Angeles Lakers', '0022100053', 121, 0.333, 0.488, 0.312, 0.711, 39.9, 28.2, 13.6, 9.6, 3.0, 3.3, 109.6, 106.3, 0.554, 125, 0.333, 0.468, 0.434, 0.657, 40.4, 23.9, 16.2, 7.6, 6.1, -4.5, 108.3, 112.0, 0.575, 0, '10/26/2021'], ['Utah Jazz', 'Denver Nuggets', '0022100054', 122, 1.0, 0.425, 0.337, 0.868, 52.3, 17.1, 14.6, 10.1, 4.0, 15.1, 109.0, 94.4, 0.549, 110, 0.667, 0.482, 0.327, 0.621, 44.4, 23.8, 20.5, 9.6, 2.0, 2.0, 99.0, 97.7, 0.558, 1, '10/26/2021'], ['Oklahoma City Thunder', 'Golden State Warriors', '0022100051', 98, 0.0, 0.406, 0.266, 0.66, 44.4, 22.0, 15.3, 7.5, 3.4, -22.4, 94.9, 116.1, 0.484, 106, 1.0, 0.465, 0.393, 0.776, 46.3, 26.3, 14.3, 8.3, 2.9, 6.7, 112.7, 105.4, 0.579, 0, '10/26/2021'], ['Orlando Magic', 'Charlotte Hornets', '0022100055', 111, 0.25, 0.405, 0.314, 0.758, 47.2, 21.3, 16.8, 6.3, 4.8, -15.7, 99.7, 115.5, 0.52, 120, 0.75, 0.463, 0.401, 0.714, 45.1, 26.5, 12.2, 8.5, 4.0, 4.0, 114.1, 109.1, 0.559, 0, '10/27/2021'], ['Brooklyn Nets', 'Miami Heat', '0022100057', 93, 0.5, 0.442, 0.343, 0.75, 46.8, 21.3, 12.9, 6.2, 6.7, -5.0, 103.2, 108.2, 0.54, 106, 0.667, 0.464, 0.316, 0.797, 49.7, 23.7, 14.1, 7.1, 1.9, 15.4, 107.4, 92.6, 0.554, 0, '10/27/2021'], ['New Orleans Pelicans', 'Atlanta Hawks', '0022100059', 99, 0.25, 0.424, 0.364, 0.789, 50.7, 21.6, 19.9, 6.6, 5.1, -8.3, 99.3, 107.1, 0.523, 102, 0.667, 0.456, 0.366, 0.778, 51.8, 24.6, 12.5, 7.9, 4.9, 12.5, 108.2, 96.1, 0.545, 0, '10/27/2021'], ['Toronto Raptors', 'Indiana Pacers', '0022100058', 118, 0.25, 0.4, 0.294, 0.802, 52.5, 20.0, 16.0, 10.3, 3.3, 1.5, 100.3, 99.5, 0.498, 100, 0.25, 0.46, 0.359, 0.817, 45.9, 23.1, 15.1, 5.4, 5.2, -0.2, 109.9, 110.4, 0.569, 1, '10/27/2021'], ['Milwaukee Bucks', 'Minnesota Timberwolves', '0022100060', 108, 0.75, 0.462, 0.357, 0.77, 42.9, 21.4, 14.2, 8.0, 4.8, 0.2, 111.3, 110.0, 0.576, 113, 0.667, 0.41, 0.341, 0.75, 42.4, 21.5, 15.5, 13.0, 8.5, 5.1, 100.6, 96.2, 0.525, 0, '10/27/2021'], ['Oklahoma City Thunder', 'Los Angeles Lakers', '0022100061', 123, 0.0, 0.409, 0.287, 0.7, 44.0, 21.4, 15.0, 7.4, 3.3, -18.8, 96.2, 113.9, 0.494, 115, 0.5, 0.47, 0.397, 0.685, 42.3, 21.9, 14.8, 7.4, 6.7, -2.3, 107.4, 110.0, 0.566, 1, '10/27/2021'], ['Phoenix Suns', 'Sacramento Kings', '0022100062', 107, 0.333, 0.462, 0.34, 0.717, 42.6, 26.6, 14.4, 7.5, 2.0, -10.2, 104.3, 115.2, 0.551, 110, 0.333, 0.444, 0.325, 0.73, 45.8, 22.6, 14.2, 6.8, 4.2, -5.8, 107.1, 113.3, 0.545, 0, '10/27/2021'], ['Boston Celtics', 'Washington Wizards', '0022100056', 107, 0.5, 0.435, 0.351, 0.785, 44.0, 24.5, 15.2, 8.4, 8.2, -3.4, 105.2, 109.4, 0.551, 116, 0.667, 0.437, 0.317, 0.831, 45.1, 19.0, 13.7, 7.6, 6.0, 0.6, 102.5, 101.9, 0.541, 0, '10/27/2021'], ['Portland Trail Blazers', 'Memphis Grizzlies', '0022100063', 116, 0.333, 0.471, 0.336, 0.772, 44.7, 19.9, 16.1, 7.5, 4.3, -1.2, 105.9, 106.8, 0.574, 96, 0.667, 0.483, 0.404, 0.873, 49.2, 25.9, 13.1, 8.5, 4.9, 4.6, 121.3, 117.1, 0.589, 1, '10/27/2021'], ['LA Clippers', 'Cleveland Cavaliers', '0022100064', 79, 0.333, 0.448, 0.336, 0.772, 39.7, 26.5, 9.8, 11.7, 3.8, 6.9, 108.2, 101.9, 0.548, 92, 0.5, 0.474, 0.303, 0.776, 43.3, 28.0, 13.9, 7.2, 4.7, -1.0, 107.2, 107.6, 0.562, 0, '10/27/2021'], ['Washington Wizards', 'Atlanta Hawks', '0022100066', 122, 0.75, 0.455, 0.326, 0.798, 45.5, 18.8, 14.2, 7.7, 6.3, 2.7, 105.8, 103.4, 0.555, 111, 0.75, 0.446, 0.344, 0.79, 53.3, 24.0, 12.3, 7.0, 4.8, 10.3, 108.0, 98.0, 0.532, 1, '10/28/2021'], ['Philadelphia 76ers', 'Detroit Pistons', '0022100065', 110, 0.5, 0.474, 0.392, 0.824, 43.8, 23.3, 13.0, 7.8, 7.0, 3.6, 114.0, 110.1, 0.585, 102, 0.0, 0.409, 0.225, 0.739, 45.2, 18.9, 17.9, 7.6, 6.3, -13.0, 91.0, 103.0, 0.474, 1, '10/28/2021'], ['Houston Rockets', 'Utah Jazz', '0022100068', 91, 0.25, 0.453, 0.408, 0.733, 44.1, 22.5, 18.7, 9.4, 4.8, -1.2, 103.8, 105.0, 0.567, 122, 1.0, 0.455, 0.328, 0.821, 48.3, 18.0, 14.3, 8.3, 4.7, 14.0, 113.0, 99.0, 0.574, 0, '10/28/2021'], ['Chicago Bulls', 'New York Knicks', '0022100067', 103, 1.0, 0.465, 0.423, 0.864, 41.3, 24.5, 14.3, 10.3, 6.5, 10.0, 107.5, 97.5, 0.572, 104, 0.75, 0.455, 0.38, 0.702, 45.2, 25.0, 13.6, 8.1, 6.4, 8.6, 113.1, 105.3, 0.57, 0, '10/28/2021'], ['Dallas Mavericks', 'San Antonio Spurs', '0022100069', 104, 0.667, 0.404, 0.305, 0.768, 49.7, 21.5, 12.9, 7.3, 5.3, -2.6, 101.3, 104.0, 0.507, 99, 0.25, 0.476, 0.326, 0.65, 42.9, 28.3, 13.7, 9.4, 3.6, 1.4, 108.2, 106.0, 0.543, 1, '10/28/2021'], ['Golden State Warriors', 'Memphis Grizzlies', '0022100070', 101, 1.0, 0.466, 0.381, 0.777, 46.4, 27.3, 14.5, 8.5, 4.1, 7.0, 111.4, 104.1, 0.58, 104, 0.5, 0.453, 0.383, 0.77, 49.4, 26.2, 15.3, 8.6, 4.4, -1.5, 115.1, 117.1, 0.557, 0, '10/28/2021'], ['Toronto Raptors', 'Orlando Magic', '0022100071', 110, 0.4, 0.413, 0.325, 0.771, 50.5, 20.5, 15.3, 11.9, 3.8, 4.8, 104.4, 100.2, 0.508, 109, 0.2, 0.423, 0.327, 0.76, 44.2, 21.4, 17.1, 6.3, 4.2, -14.3, 101.6, 115.9, 0.534, 1, '10/29/2021'], ['Miami Heat', 'Charlotte Hornets', '0022100073', 114, 0.75, 0.446, 0.306, 0.811, 52.4, 22.9, 14.3, 6.8, 1.9, 14.7, 106.5, 92.0, 0.538, 99, 0.8, 0.473, 0.413, 0.739, 43.9, 25.6, 13.1, 9.5, 4.0, 4.9, 114.8, 109.0, 0.573, 1, '10/29/2021'], ['Brooklyn Nets', 'Indiana Pacers', '0022100072', 105, 0.4, 0.432, 0.339, 0.778, 45.6, 21.1, 13.4, 6.3, 6.7, -6.5, 100.6, 107.3, 0.534, 98, 0.2, 0.464, 0.357, 0.818, 45.0, 22.4, 16.7, 5.6, 5.6, -3.6, 108.6, 112.5, 0.571, 1, '10/29/2021'], ['New Orleans Pelicans', 'Sacramento Kings', '0022100074', 109, 0.2, 0.425, 0.352, 0.8, 49.9, 22.3, 18.1, 6.4, 5.4, -7.4, 100.2, 107.1, 0.52, 113, 0.5, 0.444, 0.342, 0.731, 44.4, 23.9, 13.7, 6.8, 4.6, -3.7, 107.8, 111.2, 0.544, 0, '10/29/2021'], ['Portland Trail Blazers', 'LA Clippers', '0022100076', 111, 0.5, 0.469, 0.354, 0.761, 45.6, 20.4, 15.7, 8.3, 4.8, 3.8, 108.6, 104.3, 0.579, 92, 0.25, 0.427, 0.307, 0.743, 39.2, 24.9, 10.9, 12.1, 3.4, 2.2, 102.2, 100.5, 0.52, 1, '10/29/2021'], ['Denver Nuggets', 'Dallas Mavericks', '0022100075', 106, 0.5, 0.488, 0.333, 0.642, 41.8, 22.5, 18.6, 9.4, 2.2, -1.5, 101.2, 103.5, 0.566, 75, 0.75, 0.418, 0.329, 0.681, 49.0, 20.9, 13.1, 6.5, 5.8, -0.8, 103.0, 103.8, 0.517, 1, '10/29/2021'], ['Los Angeles Lakers', 'Cleveland Cavaliers', '0022100077', 113, 0.4, 0.476, 0.38, 0.708, 41.5, 23.1, 15.1, 7.4, 5.8, -3.4, 108.0, 111.4, 0.57, 101, 0.6, 0.462, 0.282, 0.795, 46.4, 25.0, 15.4, 7.6, 4.4, 1.8, 105.0, 102.8, 0.549, 1, '10/29/2021']]\n",
      "                      Home                 Away     Game_ID  H_Score  H_W_PCT  \\\n",
      "0      Cleveland Cavaliers    Charlotte Hornets  0022100017      112      0.0   \n",
      "1            Orlando Magic      New York Knicks  0022100018       96      0.0   \n",
      "2       Washington Wizards       Indiana Pacers  0022100019      135      1.0   \n",
      "3           Boston Celtics      Toronto Raptors  0022100020       83      0.0   \n",
      "4       Philadelphia 76ers        Brooklyn Nets  0022100021      109      1.0   \n",
      "..                     ...                  ...         ...      ...      ...   \n",
      "56           Brooklyn Nets       Indiana Pacers  0022100072      105      0.4   \n",
      "57    New Orleans Pelicans     Sacramento Kings  0022100074      109      0.2   \n",
      "58  Portland Trail Blazers          LA Clippers  0022100076      111      0.5   \n",
      "59          Denver Nuggets     Dallas Mavericks  0022100075      106      0.5   \n",
      "60      Los Angeles Lakers  Cleveland Cavaliers  0022100077      113      0.4   \n",
      "\n",
      "    H_FG_PCT  H_FG3_PCT  H_FT_PCT  H_REB  H_AST  ...  A_AST  A_TOV  A_STL  \\\n",
      "0      0.505      0.368     0.722   34.6   36.5  ...   27.4    7.5    8.5   \n",
      "1      0.407      0.310     0.783   46.3   17.9  ...   21.6   15.2    7.2   \n",
      "2      0.444      0.185     0.808   48.1   18.9  ...   27.1   15.9    1.9   \n",
      "3      0.410      0.368     0.739   45.2   27.4  ...   13.1   17.8    9.3   \n",
      "4      0.518      0.520     0.800   47.5   24.2  ...   18.6   12.7    2.9   \n",
      "..       ...        ...       ...    ...    ...  ...    ...    ...    ...   \n",
      "56     0.432      0.339     0.778   45.6   21.1  ...   22.4   16.7    5.6   \n",
      "57     0.425      0.352     0.800   49.9   22.3  ...   23.9   13.7    6.8   \n",
      "58     0.469      0.354     0.761   45.6   20.4  ...   24.9   10.9   12.1   \n",
      "59     0.488      0.333     0.642   41.8   22.5  ...   20.9   13.1    6.5   \n",
      "60     0.476      0.380     0.708   41.5   23.1  ...   25.0   15.4    7.6   \n",
      "\n",
      "    A_BLK  A_PLUS_MINUS  A_OFF_RATING  A_DEF_RATING  A_TS_PCT  Result  \\\n",
      "0     4.7           0.9         116.0         114.0     0.517       0   \n",
      "1     8.0           3.2         110.4         108.1     0.590       0   \n",
      "2     9.3          -0.9         114.0         116.0     0.607       1   \n",
      "3     3.7         -14.0          77.6          92.5     0.389       0   \n",
      "4     8.8         -22.5         102.0         124.5     0.552       0   \n",
      "..    ...           ...           ...           ...       ...     ...   \n",
      "56    5.6          -3.6         108.6         112.5     0.571       1   \n",
      "57    4.6          -3.7         107.8         111.2     0.544       0   \n",
      "58    3.4           2.2         102.2         100.5     0.520       1   \n",
      "59    5.8          -0.8         103.0         103.8     0.517       1   \n",
      "60    4.4           1.8         105.0         102.8     0.549       1   \n",
      "\n",
      "          Date  \n",
      "0   10/22/2021  \n",
      "1   10/22/2021  \n",
      "2   10/22/2021  \n",
      "3   10/22/2021  \n",
      "4   10/22/2021  \n",
      "..         ...  \n",
      "56  10/29/2021  \n",
      "57  10/29/2021  \n",
      "58  10/29/2021  \n",
      "59  10/29/2021  \n",
      "60  10/29/2021  \n",
      "\n",
      "[61 rows x 33 columns]\n",
      "                      Home                 Away     Game_ID  H_Score  H_W_PCT  \\\n",
      "0      Cleveland Cavaliers    Charlotte Hornets  0022100017      112      0.0   \n",
      "1            Orlando Magic      New York Knicks  0022100018       96      0.0   \n",
      "2       Washington Wizards       Indiana Pacers  0022100019      135      1.0   \n",
      "3           Boston Celtics      Toronto Raptors  0022100020       83      0.0   \n",
      "4       Philadelphia 76ers        Brooklyn Nets  0022100021      109      1.0   \n",
      "..                     ...                  ...         ...      ...      ...   \n",
      "56           Brooklyn Nets       Indiana Pacers  0022100072      105      0.4   \n",
      "57    New Orleans Pelicans     Sacramento Kings  0022100074      109      0.2   \n",
      "58  Portland Trail Blazers          LA Clippers  0022100076      111      0.5   \n",
      "59          Denver Nuggets     Dallas Mavericks  0022100075      106      0.5   \n",
      "60      Los Angeles Lakers  Cleveland Cavaliers  0022100077      113      0.4   \n",
      "\n",
      "    H_FG_PCT  H_FG3_PCT  H_FT_PCT  H_REB  H_AST  ...  A_AST  A_TOV  A_STL  \\\n",
      "0      0.505      0.368     0.722   34.6   36.5  ...   27.4    7.5    8.5   \n",
      "1      0.407      0.310     0.783   46.3   17.9  ...   21.6   15.2    7.2   \n",
      "2      0.444      0.185     0.808   48.1   18.9  ...   27.1   15.9    1.9   \n",
      "3      0.410      0.368     0.739   45.2   27.4  ...   13.1   17.8    9.3   \n",
      "4      0.518      0.520     0.800   47.5   24.2  ...   18.6   12.7    2.9   \n",
      "..       ...        ...       ...    ...    ...  ...    ...    ...    ...   \n",
      "56     0.432      0.339     0.778   45.6   21.1  ...   22.4   16.7    5.6   \n",
      "57     0.425      0.352     0.800   49.9   22.3  ...   23.9   13.7    6.8   \n",
      "58     0.469      0.354     0.761   45.6   20.4  ...   24.9   10.9   12.1   \n",
      "59     0.488      0.333     0.642   41.8   22.5  ...   20.9   13.1    6.5   \n",
      "60     0.476      0.380     0.708   41.5   23.1  ...   25.0   15.4    7.6   \n",
      "\n",
      "    A_BLK  A_PLUS_MINUS  A_OFF_RATING  A_DEF_RATING  A_TS_PCT  Result  \\\n",
      "0     4.7           0.9         116.0         114.0     0.517       0   \n",
      "1     8.0           3.2         110.4         108.1     0.590       0   \n",
      "2     9.3          -0.9         114.0         116.0     0.607       1   \n",
      "3     3.7         -14.0          77.6          92.5     0.389       0   \n",
      "4     8.8         -22.5         102.0         124.5     0.552       0   \n",
      "..    ...           ...           ...           ...       ...     ...   \n",
      "56    5.6          -3.6         108.6         112.5     0.571       1   \n",
      "57    4.6          -3.7         107.8         111.2     0.544       0   \n",
      "58    3.4           2.2         102.2         100.5     0.520       1   \n",
      "59    5.8          -0.8         103.0         103.8     0.517       1   \n",
      "60    4.4           1.8         105.0         102.8     0.549       1   \n",
      "\n",
      "          Date  \n",
      "0   10/22/2021  \n",
      "1   10/22/2021  \n",
      "2   10/22/2021  \n",
      "3   10/22/2021  \n",
      "4   10/22/2021  \n",
      "..         ...  \n",
      "56  10/29/2021  \n",
      "57  10/29/2021  \n",
      "58  10/29/2021  \n",
      "59  10/29/2021  \n",
      "60  10/29/2021  \n",
      "\n",
      "[61 rows x 33 columns]\n"
     ]
    }
   ],
   "source": [
    "from datetime import date, timedelta\n",
    "import pandas as pd\n",
    "import requests\n",
    "\n",
    "# from get_stats import get_team_stats_dict\n",
    "# from get_matches import get_match_results\n",
    "#from standardization import z_score, stat_std, stat_mean\n",
    "#from available_stats import available_stats\n",
    "\n",
    "\n",
    "# [{'Sacramento Kings': 'Boston Celtics', 'Charlotte Hornets': 'Philadelphia 76ers'}, ['W', 'L']]\n",
    "# team stats is a dataframe\n",
    "def to_dataframe(daily_games, start_date, end_date, season): #, mean_dict, std_dict):\n",
    "    full_dataframe = []\n",
    "    game_number = 0  # counter to match with the correct game\n",
    "    daily_results = daily_games[1]  # win or loss for each game\n",
    "    score = daily_games[2]\n",
    "    game_id = daily_games[3]\n",
    "\n",
    "    for home_team, away_team in daily_games[0].items():  # loops through matchups\n",
    "        home_team_stats = get_team_stats_dict(home_team, start_date, end_date, season)\n",
    "        away_team_stats = get_team_stats_dict(away_team, start_date, end_date, season)\n",
    "\n",
    "        current_game = [home_team, away_team]\n",
    "        \n",
    "        current_game.append(game_id[game_number])\n",
    "\n",
    "        current_game.append(score.pop(0))\n",
    "\n",
    "        for stat, stat_type in available_stats.items():\n",
    "            current_game.append(home_team_stats[stat])\n",
    "        \n",
    "        current_game.append(score.pop(0))\n",
    "\n",
    "        for stat, stat_type in available_stats.items():\n",
    "            current_game.append(away_team_stats[stat])\n",
    "\n",
    "\n",
    "        #for stat, stat_type in available_stats.items():\n",
    "        #    z_score_diff = z_score_difference(home_team_stats[stat], away_team_stats[stat], mean_dict[stat], std_dict[stat])\n",
    "\n",
    "         #   current_game.append(z_score_diff)\n",
    "\n",
    "        if daily_results[game_number] == 'W':\n",
    "            result = 1\n",
    "        else:\n",
    "            result = 0\n",
    "\n",
    "        current_game.append(result)\n",
    "        game_number += 1\n",
    "\n",
    "        print(current_game)\n",
    "\n",
    "        full_dataframe.append(current_game)\n",
    "\n",
    "    return full_dataframe\n",
    "\n",
    "\n",
    "\n",
    "def date_range(start_date, end_date):\n",
    "    for n in range(int((end_date - start_date).days)):\n",
    "        yield start_date + timedelta(n)\n",
    "        \n",
    "\n",
    "def training_set(start_year, start_month, start_day, end_year, end_month, end_day, season, season_start):\n",
    "    start_date = date(start_year, start_month, start_day)\n",
    "    end_date = date(end_year, end_month, end_day)\n",
    "\n",
    "    total_games = []\n",
    "\n",
    "    for single_date in date_range(start_date, end_date):\n",
    "        current_date = single_date.strftime('%m/%d/%Y')\n",
    "        print(current_date)\n",
    "\n",
    "        previous_day = single_date - timedelta(days=1)\n",
    "        previous_day_formatted = previous_day.strftime('%m/%d/%Y')\n",
    "\n",
    "        #mean_std_dictionary = mean_std_dict(season_start, previous_day_formatted, season)\n",
    "        #mean_dict = mean_std_dictionary[0]\n",
    "        #std_dict = mean_std_dictionary[1]\n",
    "\n",
    "        current_day_games = get_match_results(current_date, season)\n",
    "        current_day_games_with_stats = to_dataframe(current_day_games, season_start, previous_day_formatted, season)\n",
    "\n",
    "        for game in current_day_games_with_stats:\n",
    "            game.append(current_date)\n",
    "            total_games.append(game)\n",
    "\n",
    "    print(total_games)\n",
    "    return total_games\n",
    "\n",
    "\n",
    "def make_dataframe(game_list):\n",
    "    games = pd.DataFrame(game_list,\n",
    "                         columns=['Home', 'Away', 'Game_ID', 'H_Score', 'H_W_PCT', 'H_FG_PCT', 'H_FG3_PCT', 'H_FT_PCT',\n",
    "                                  'H_REB', 'H_AST', 'H_TOV', 'H_STL',\n",
    "                                  'H_BLK', 'H_PLUS_MINUS', 'H_OFF_RATING', 'H_DEF_RATING', 'H_TS_PCT', 'A_Score',\n",
    "                                  'A_W_PCT', 'A_FG_PCT', 'A_FG3_PCT',\n",
    "                                  'A_FT_PCT', 'A_REB', 'A_AST', 'A_TOV', 'A_STL',\n",
    "                                  'A_BLK', 'A_PLUS_MINUS', 'A_OFF_RATING', 'A_DEF_RATING', 'A_TS_PCT', 'Result',\n",
    "                                  'Date'])\n",
    "\n",
    "    print(games)\n",
    "    return games\n",
    "\n",
    "\n",
    "def main():\n",
    "    attempts = 10\n",
    "\n",
    "    for i in range(attempts):\n",
    "        try:\n",
    "            all_games = training_set(start_year=2021, start_month=10, start_day=22, end_year=2021, end_month=10, end_day=30,\n",
    "                             season='2021-22', season_start='10/19/2021')\n",
    "            df = make_dataframe(all_games)\n",
    "\n",
    "            print(df)\n",
    "            df.to_csv(r'C:\\Users\\alvaro\\OneDrive\\Documents\\School\\Flatiron\\Projects\\NBA_Prediction_Model\\data\\new_v0.csv', index=False)\n",
    "        except requests.exceptions.ReadTimeout:\n",
    "            if i < attempts - 1:\n",
    "                continue\n",
    "            else:\n",
    "                raise\n",
    "        break\n",
    "\n",
    "if __name__ == '__main__':\n",
    "    main()\n",
    "\n"
   ]
  },
  {
   "cell_type": "markdown",
   "metadata": {},
   "source": [
    "# Dataset"
   ]
  },
  {
   "cell_type": "markdown",
   "metadata": {},
   "source": [
    "## 2018-2019"
   ]
  },
  {
   "cell_type": "code",
   "execution_count": null,
   "metadata": {},
   "outputs": [],
   "source": [
    "import pandas as pd\n",
    "df_2018 = pd.read_csv('./nba_data/nba_df_2018.csv')\n",
    "df_2018['Date'] = pd.to_datetime(df_2018['Date'])\n",
    "df_2018['Season'] = '2018-19'\n",
    "len(df_2018)"
   ]
  },
  {
   "cell_type": "markdown",
   "metadata": {},
   "source": [
    "## 2019 - 2020"
   ]
  },
  {
   "cell_type": "code",
   "execution_count": null,
   "metadata": {},
   "outputs": [],
   "source": [
    "df_2019 = pd.read_csv('./nba_data/nba_df_2019.csv')\n",
    "df_2019['Date'] = pd.to_datetime(df_2019['Date'])\n",
    "df_2019['Season'] = '2019-20'\n",
    "\n",
    "df_2019_2 = pd.read_csv('./nba_data/nba_df_2019_2.csv')\n",
    "df_2019_2['Date'] = pd.to_datetime(df_2019_2['Date'])\n",
    "df_2019_2['Season'] = '2019-20'\n",
    "\n",
    "print(len(df_2019), len(df_2019_2))"
   ]
  },
  {
   "cell_type": "code",
   "execution_count": null,
   "metadata": {},
   "outputs": [],
   "source": [
    "frames = [df_2019, df_2019_2]\n",
    "df_2019_final = pd.concat(frames)\n",
    "len(df_2019_final)"
   ]
  },
  {
   "cell_type": "markdown",
   "metadata": {},
   "source": [
    "## 2020 - 2021"
   ]
  },
  {
   "cell_type": "code",
   "execution_count": null,
   "metadata": {},
   "outputs": [],
   "source": [
    "df_2020 = pd.read_csv('./nba_data/nba_df_2020.csv')\n",
    "df_2020['Date'] = pd.to_datetime(df_2020['Date'])\n",
    "df_2020['Season'] = '2020-21'\n",
    "len(df_2020)"
   ]
  },
  {
   "cell_type": "code",
   "execution_count": null,
   "metadata": {},
   "outputs": [],
   "source": [
    "df_2020"
   ]
  },
  {
   "cell_type": "code",
   "execution_count": null,
   "metadata": {},
   "outputs": [],
   "source": [
    "frames = [df_2018, df_2019_final, df_2020]\n",
    "df = pd.concat(frames)\n",
    "df = df.reset_index(drop=True)"
   ]
  },
  {
   "cell_type": "code",
   "execution_count": null,
   "metadata": {},
   "outputs": [],
   "source": [
    "df = df.reset_index(drop=True)\n",
    "len(df)"
   ]
  },
  {
   "cell_type": "markdown",
   "metadata": {},
   "source": [
    "## 2021 - 2022"
   ]
  },
  {
   "cell_type": "code",
   "execution_count": null,
   "metadata": {},
   "outputs": [],
   "source": [
    "import pandas as pd\n",
    "df_2022 = pd.read_csv('./nba_data/nba_game_2022_v0.csv')\n",
    "\n",
    "df_2022['Date'] = pd.to_datetime(df_2022['Date'])\n",
    "df_2022['Season'] = '2021-22'"
   ]
  },
  {
   "cell_type": "code",
   "execution_count": null,
   "metadata": {},
   "outputs": [],
   "source": [
    "df_2022_1 = pd.read_csv('./nba_data/nba_game_2022_v1.csv')\n",
    "\n",
    "df_2022_1['Date'] = pd.to_datetime(df_2022_1['Date'])\n",
    "df_2022_1['Season'] = '2021-22'"
   ]
  },
  {
   "cell_type": "code",
   "execution_count": null,
   "metadata": {},
   "outputs": [],
   "source": [
    "df_2022_2 = pd.read_csv('./nba_data/nba_game_2022_v2.csv')\n",
    "\n",
    "df_2022_2['Date'] = pd.to_datetime(df_2022_2['Date'])\n",
    "df_2022_2['Season'] = '2021-22'"
   ]
  },
  {
   "cell_type": "code",
   "execution_count": null,
   "metadata": {},
   "outputs": [],
   "source": [
    "df_2022_3 = pd.read_csv('./nba_data/nba_game_2022_v3.csv')\n",
    "\n",
    "df_2022_3['Date'] = pd.to_datetime(df_2022_3['Date'])\n",
    "df_2022_3['Season'] = '2021-22'"
   ]
  },
  {
   "cell_type": "code",
   "execution_count": null,
   "metadata": {},
   "outputs": [],
   "source": [
    "print(f\"\"\"length of 2022 data: {len(df_2022) + len(df_2022_1) + len(df_2022_2) + len(df_2022_3)}\"\"\")"
   ]
  },
  {
   "cell_type": "code",
   "execution_count": null,
   "metadata": {},
   "outputs": [],
   "source": [
    "frames = [df_2022, df_2022_1, df_2022_2, df_2022_3]\n",
    "df_2022_final = pd.concat(frames)\n",
    "print(f\"Length of 2022 data: {len(df_2022_final)}\\n\""
   ]
  },
  {
   "cell_type": "code",
   "execution_count": null,
   "metadata": {
    "scrolled": true
   },
   "outputs": [],
   "source": [
    "frames = [df_2018, df_2019_final, df_2020, df_2022_final]\n",
    "df = pd.concat(frames)\n",
    "df = df.reset_index(drop=True)\n",
    "\n",
    "df"
   ]
  },
  {
   "cell_type": "code",
   "execution_count": null,
   "metadata": {},
   "outputs": [],
   "source": [
    "df.isnull().sum()"
   ]
  },
  {
   "cell_type": "markdown",
   "metadata": {},
   "source": [
    "# Last N Games Win %"
   ]
  },
  {
   "cell_type": "code",
   "execution_count": null,
   "metadata": {},
   "outputs": [],
   "source": [
    "import warnings\n",
    "warnings.filterwarnings(\"ignore\")\n",
    "prev_game_df = df[df['Date'] < '12/12/2020'][(df['Home'] == \"Milwaukee Bucks\") | (df['Away'] == 'Milwaukee Bucks')].sort_values(by = 'Date').tail(10)\n",
    "prev_game_df\n",
    "h_df = prev_game_df.iloc[:, range(0,32,31)]\n",
    "\n",
    "h_df = h_df.loc[h_df['Home'] == 'Milwaukee Bucks'] \n",
    "print(h_df)"
   ]
  },
  {
   "cell_type": "code",
   "execution_count": null,
   "metadata": {},
   "outputs": [],
   "source": [
    "def get_avg_win_pct_last_n_games(team, game_date, df, n):\n",
    "    prev_game_df = df[df['Date'] < game_date][(df['Home'] == team) | (df['Away'] == team)].sort_values(by = 'Date').tail(n)\n",
    "    \n",
    "    wins = 0 \n",
    "    \n",
    "    result_df = prev_game_df.iloc[:, range(0,32,31)]\n",
    "    h_df = result_df.loc[result_df['Home'] == team] \n",
    "    \n",
    "    h_wins = h_df.loc[h_df['Result'] == 1]\n",
    "    \n",
    "    wins += len(h_wins)\n",
    "      \n",
    "    a_df = result_df.loc[result_df['Home'] != team]\n",
    "    a_wins = a_df.loc[a_df['Result'] == 0]\n",
    "    \n",
    "    wins += len(a_wins)\n",
    "\n",
    "    return wins/n\n",
    "get_avg_win_pct_last_n_games('Milwaukee Bucks', '12/12/2020', df, 10)"
   ]
  },
  {
   "cell_type": "code",
   "execution_count": null,
   "metadata": {},
   "outputs": [],
   "source": [
    "for season in df['Season'].unique() :\n",
    "    \n",
    "    season_stats = df[df['Season'] == season].sort_values(by='Date').reset_index(drop=True)\n",
    "    \n",
    "    for index, row in df.iterrows() : \n",
    "        game_id = row['Game_ID']\n",
    "        game_date = row['Date']\n",
    "        h_team = row['Home']\n",
    "        a_team = row['Away']\n",
    "        \n",
    "        df.loc[index,'Home_W_Pct_10'] = get_avg_win_pct_last_n_games(h_team, game_date, df, 10)\n",
    "        \n",
    "        df.loc[index,'Away_W_Pct_10'] = get_avg_win_pct_last_n_games(a_team, game_date, df, 10)\n",
    "        "
   ]
  },
  {
   "cell_type": "code",
   "execution_count": null,
   "metadata": {
    "scrolled": true
   },
   "outputs": [],
   "source": [
    "df[df['Season'] == '2020-21'].tail()\n"
   ]
  },
  {
   "cell_type": "code",
   "execution_count": null,
   "metadata": {},
   "outputs": [],
   "source": [
    "df"
   ]
  },
  {
   "cell_type": "markdown",
   "metadata": {},
   "source": [
    "# ELO Rating\n",
    "- every team starts with a 1500\n",
    "$$R_{i+1} = k * (S_{team} - E_{team} + R_{i})$$\n",
    "- S team is 1 if the team wins and 0 if they lose\n",
    "- E team is the expected win probability of the team \n",
    "$$E_{team} = \\frac{1}{1+10^{\\frac{opp\\_elo - team\\_elo}{400}}}$$\n",
    "- k is a moving constant that depends on margin of victory and difference in Elo ratings\n",
    "$$k = 20\\frac{(MOV_{winner} + 3)^{0.8}}{7.5 + 0.006(elo\\_difference_{winner})} $$\n",
    "- team year by year carryover \n",
    "$$(R * 0.75) + (0.25 * 1505)$$"
   ]
  },
  {
   "cell_type": "code",
   "execution_count": null,
   "metadata": {},
   "outputs": [],
   "source": [
    "df.head()"
   ]
  },
  {
   "cell_type": "code",
   "execution_count": null,
   "metadata": {},
   "outputs": [],
   "source": [
    "# Home and road team win probabilities implied by Elo ratings and home court adjustment \n",
    "import math\n",
    "import time\n",
    "def win_probs(home_elo, away_elo, home_court_advantage) :\n",
    "    h = math.pow(10, home_elo/400)\n",
    "    r = math.pow(10, away_elo/400)\n",
    "    a = math.pow(10, home_court_advantage/400) \n",
    "\n",
    "    denom = r + a*h\n",
    "    home_prob = a*h / denom\n",
    "    away_prob = r / denom \n",
    "  \n",
    "    return home_prob, away_prob\n",
    "\n",
    "  #odds the home team will win based on elo ratings and home court advantage\n",
    "\n",
    "def home_odds_on(home_elo, away_elo, home_court_advantage) :\n",
    "    h = math.pow(10, home_elo/400)\n",
    "    r = math.pow(10, away_elo/400)\n",
    "    a = math.pow(10, home_court_advantage/400)\n",
    "    return a*h/r\n",
    "\n",
    "#this function determines the constant used in the elo rating, based on margin of victory and difference in elo ratings\n",
    "def elo_k(MOV, elo_diff):\n",
    "    k = 20 # Optimal K is 20 https://fivethirtyeight.com/features/how-we-calculate-nba-elo-ratings/\n",
    "    if MOV>0:\n",
    "        multiplier=(MOV+3)**(0.8)/(7.5+0.006*(elo_diff))\n",
    "    else:\n",
    "        multiplier=(-MOV+3)**(0.8)/(7.5+0.006*(-elo_diff))\n",
    "    return k*multiplier\n",
    "\n",
    "\n",
    "# Updates the home and away teams elo ratings after a game \n",
    "\n",
    "def update_elo(home_score, away_score, home_elo, away_elo, home_court_advantage) :\n",
    "    home_prob, away_prob = win_probs(home_elo, away_elo, home_court_advantage) \n",
    "\n",
    "    if (home_score - away_score > 0) :\n",
    "        home_win = 1 \n",
    "        away_win = 0 \n",
    "    else :\n",
    "        home_win = 0 \n",
    "        away_win = 1 \n",
    "  \n",
    "    k = elo_k(home_score - away_score, home_elo - away_elo)\n",
    "\n",
    "    updated_home_elo = home_elo + k * (home_win - home_prob) \n",
    "    updated_away_elo = away_elo + k * (away_win - away_prob)\n",
    "    \n",
    "    return updated_home_elo, updated_away_elo\n",
    "\n",
    "\n",
    "# Takes into account prev season elo\n",
    "# The reason we revert to a mean of 1505 rather than 1500 is that \n",
    "# there are liable to be a couple of relatively recent expansion teams in the league at any given time\n",
    "def get_prev_elo(team, date, season, team_stats, elo_df) :\n",
    "    prev_game = team_stats[team_stats['Date'] < game_date][(team_stats['Home'] == team) | (team_stats['Away'] == team)].sort_values(by = 'Date').tail(1).iloc[0] \n",
    "\n",
    "    if team == prev_game['Home'] :\n",
    "        elo_rating = elo_df[elo_df['Game_ID'] == prev_game['Game_ID']]['H_Team_Elo_After'].values[0]\n",
    "    else :\n",
    "        elo_rating = elo_df[elo_df['Game_ID'] == prev_game['Game_ID']]['A_Team_Elo_After'].values[0]\n",
    "  \n",
    "    if prev_game['Season'] != season :\n",
    "        return (0.75 * elo_rating) + (0.25 * 1505) # Year-to-Year Carry-Over\n",
    "    else :\n",
    "        return elo_rating"
   ]
  },
  {
   "cell_type": "code",
   "execution_count": null,
   "metadata": {},
   "outputs": [],
   "source": [
    "df.sort_values(by = 'Date', inplace = True)\n",
    "df.reset_index(inplace=True, drop = True)\n",
    "elo_df = pd.DataFrame(columns=['Game_ID', 'H_Team', 'A_Team', 'H_Team_Elo_Before', 'A_Team_Elo_Before', 'H_Team_Elo_After', 'A_Team_Elo_After'])\n",
    "teams_elo_df = pd.DataFrame(columns=['Game_ID','Team', 'Elo', 'Date', 'Where_Played', 'Season']) \n",
    "\n",
    "for index, row in df.iterrows(): \n",
    "    game_id = row['Game_ID']\n",
    "    game_date = row['Date']\n",
    "    season = row['Season']\n",
    "    h_team, a_team = row['Home'], row['Away']\n",
    "    h_score, a_score = row['H_Score'], row['A_Score'] \n",
    "\n",
    "    if (h_team not in elo_df['H_Team'].values and h_team not in elo_df['A_Team'].values) :\n",
    "        h_team_elo_before = 1500\n",
    "    else :\n",
    "        h_team_elo_before = get_prev_elo(h_team, game_date, season, df, elo_df)\n",
    "\n",
    "    if (a_team not in elo_df['H_Team'].values and a_team not in elo_df['A_Team'].values) :\n",
    "        a_team_elo_before = 1500\n",
    "    else :\n",
    "        a_team_elo_before = get_prev_elo(a_team, game_date, season, df, elo_df)\n",
    "\n",
    "    h_team_elo_after, a_team_elo_after = update_elo(h_score, a_score, h_team_elo_before, a_team_elo_before, 69)\n",
    "\n",
    "    new_row = {'Game_ID': game_id, 'H_Team': h_team, 'A_Team': a_team, 'H_Team_Elo_Before': h_team_elo_before, 'A_Team_Elo_Before': a_team_elo_before, \\\n",
    "                                                                        'H_Team_Elo_After' : h_team_elo_after, 'A_Team_Elo_After': a_team_elo_after}\n",
    "    teams_row_one = {'Game_ID': game_id,'Team': h_team, 'Elo': h_team_elo_before, 'Date': game_date, 'Where_Played': 'Home', 'Season': season}\n",
    "    teams_row_two = {'Game_ID': game_id,'Team': a_team, 'Elo': a_team_elo_before, 'Date': game_date, 'Where_Played': 'Away', 'Season': season}\n",
    "  \n",
    "    elo_df = elo_df.append(new_row, ignore_index = True)\n",
    "    teams_elo_df = teams_elo_df.append(teams_row_one, ignore_index=True)\n",
    "    teams_elo_df = teams_elo_df.append(teams_row_two, ignore_index=True)"
   ]
  },
  {
   "cell_type": "code",
   "execution_count": null,
   "metadata": {},
   "outputs": [],
   "source": [
    "#teams_elo_df.set_index([\"Team\"], append=True)\n",
    "#dataset = teams_elo_df.pivot(index=\"Team\",values=\"Elo\", columns=\"Date\")\n",
    "dates = list(set([d.strftime(\"%m-%d-%Y\") for d in teams_elo_df[\"Date\"]]))\n",
    "dates = sorted(dates, key=lambda x: time.strptime(x, '%m-%d-%Y'))\n",
    "teams = df[\"Away\"]\n",
    "dataset = pd.DataFrame(columns=dates)\n",
    "dataset[\"Team\"] = teams.drop_duplicates()\n",
    "dataset = dataset.set_index(\"Team\")\n",
    "\n",
    "for index, row in teams_elo_df.iterrows():\n",
    "    date = row[\"Date\"].strftime(\"%m-%d-%Y\")\n",
    "    team = row[\"Team\"]\n",
    "    elo = row[\"Elo\"]\n",
    "    dataset[date][team] = elo\n",
    "\n",
    "teams_elo_df['Elo'] = teams_elo_df['Elo'].astype(float)\n",
    "\n",
    "elo_df"
   ]
  },
  {
   "cell_type": "code",
   "execution_count": null,
   "metadata": {},
   "outputs": [],
   "source": [
    "df.head()"
   ]
  },
  {
   "cell_type": "code",
   "execution_count": null,
   "metadata": {},
   "outputs": [],
   "source": [
    "df = df.merge(elo_df.drop(columns=['H_Team', 'A_Team']), on ='Game_ID')\n",
    "df.head()"
   ]
  },
  {
   "cell_type": "markdown",
   "metadata": {},
   "source": [
    "# Merging Dataset"
   ]
  },
  {
   "cell_type": "markdown",
   "metadata": {},
   "source": [
    "# Standardization and Z Score"
   ]
  },
  {
   "cell_type": "code",
   "execution_count": null,
   "metadata": {},
   "outputs": [],
   "source": [
    "df.head()"
   ]
  },
  {
   "cell_type": "markdown",
   "metadata": {},
   "source": [
    "# Evaluate Different Models - No Z Score"
   ]
  },
  {
   "cell_type": "code",
   "execution_count": null,
   "metadata": {},
   "outputs": [],
   "source": [
    "df.to_csv(r'C:\\Users\\alvaro\\OneDrive\\Documents\\School\\Flatiron\\Projects\\NBA_Model\\nba_data\\nba_df_final_test.csv', index = False)\n",
    "print(f'The final dataset consists of three seasons and {len(df)} games.')\n",
    "df = df.reset_index(drop=True)\n",
    "df.tail()\n"
   ]
  },
  {
   "cell_type": "code",
   "execution_count": null,
   "metadata": {},
   "outputs": [],
   "source": [
    "df.head()\n",
    "df = df.drop(labels=['H_Team_Elo_After', 'A_Team_Elo_After'], axis=1)\n",
    "df.head()"
   ]
  },
  {
   "cell_type": "code",
   "execution_count": null,
   "metadata": {},
   "outputs": [],
   "source": [
    "df[\"H_Team_Elo_Before\"] = df.H_Team_Elo_Before.astype(float)\n",
    "df[\"A_Team_Elo_Before\"] = df.A_Team_Elo_Before.astype(float)\n",
    "final_df = df.drop(['Home', 'Away', 'Game_ID', 'H_Score', 'A_Score', 'Date', 'Season'], axis=1)\n",
    "#final_df.head()\n",
    "#final_df.columns\n",
    "#final_df.info()\n",
    "final_df.columns"
   ]
  },
  {
   "cell_type": "code",
   "execution_count": null,
   "metadata": {},
   "outputs": [],
   "source": [
    "final_df.to_csv(r'C:\\Users\\alvaro\\OneDrive\\Documents\\School\\Flatiron\\Projects\\NBA_Model\\nba_data\\nbas.csv', index = False)"
   ]
  },
  {
   "cell_type": "code",
   "execution_count": null,
   "metadata": {},
   "outputs": [],
   "source": [
    "import pandas as pd\n",
    "final_df = pd.read_csv('./nba_data/nbas.csv')"
   ]
  },
  {
   "cell_type": "markdown",
   "metadata": {},
   "source": [
    "# EDA"
   ]
  },
  {
   "cell_type": "code",
   "execution_count": null,
   "metadata": {},
   "outputs": [],
   "source": [
    "import matplotlib.pyplot as plt\n",
    "import seaborn as sns\n",
    "%matplotlib inline\n",
    "\n",
    "plt.figure(figsize=(44, 34))\n",
    "\n",
    "sns.heatmap(final_df.corr(), annot=True);\n",
    "\n",
    "# correlation = final_df[['H_W_PCT', 'H_REB', 'H_AST',\n",
    "#        'H_TOV', 'H_STL', 'H_BLK', 'H_PLUS_MINUS', 'H_OFF_RATING',\n",
    "#        'H_DEF_RATING', 'H_TS_PCT', 'H_Team_Elo_Before', 'Home_W_Pct_10', 'Result']].corr()\n",
    "# sns.heatmap(final_df['Result'].corr(), annot=True)"
   ]
  },
  {
   "cell_type": "code",
   "execution_count": null,
   "metadata": {},
   "outputs": [],
   "source": [
    "final_df.corr()['Result'].abs().sort_values(ascending=False)"
   ]
  },
  {
   "cell_type": "code",
   "execution_count": null,
   "metadata": {},
   "outputs": [],
   "source": [
    "import numpy as np\n",
    "with sns.axes_style(\"darkgrid\"):\n",
    "    fig, ax = plt.subplots(figsize=(44, 34))\n",
    "    \n",
    "    mask = np.triu(np.ones_like(final_df.corr(), dtype=bool))\n",
    "    ax = sns.heatmap(abs(final_df.corr()),mask=mask,annot=True)\n",
    "    fig.savefig('images/Corelation_Heatmap');"
   ]
  },
  {
   "cell_type": "code",
   "execution_count": null,
   "metadata": {},
   "outputs": [],
   "source": [
    "final_df"
   ]
  },
  {
   "cell_type": "code",
   "execution_count": null,
   "metadata": {},
   "outputs": [],
   "source": [
    "from sklearn.model_selection import train_test_split\n",
    "from sklearn.preprocessing import StandardScaler\n",
    "#import final dataset\n",
    "#final_df = pd.read_csv('')\n",
    "\n",
    "#drop non numeric columns\n",
    "#df.drop(columns = ['Home', 'Away', 'Game_ID', 'Date', 'Season'], axis = 1, inplace = True )\n",
    "\n",
    "X = final_df.drop(columns = 'Result')\n",
    "\n",
    "y = final_df['Result']\n",
    "\n",
    "X_train, X_test, y_train, y_test = train_test_split(X, y, test_size=0.33, random_state=42)\n",
    "\n",
    "print(f'X train shape: {X_train.shape}')\n",
    "print(f'X test shape: {X_test.shape}')"
   ]
  },
  {
   "cell_type": "code",
   "execution_count": null,
   "metadata": {},
   "outputs": [],
   "source": [
    "print(f\"\"\"Raw Counts \n",
    "{final_df[\"Result\"].value_counts()}\\n\n",
    "Percentages \n",
    "{final_df[\"Result\"].value_counts(normalize=True)}\n",
    "\n",
    "\n",
    "We would get an accuracy score of 0.566312 with a baseline model, i.e. about 56.6% accuracy\n",
    "\n",
    "This is because about 56.6% of the results are wins\"\"\")"
   ]
  },
  {
   "cell_type": "code",
   "execution_count": null,
   "metadata": {},
   "outputs": [],
   "source": [
    "print(f\"\"\"Train percent wins\n",
    "{y_train.value_counts(normalize=True)}\\n\"\"\")\n",
    "\n",
    "print(f\"\"\"Test percent wins: \n",
    "{y_test.value_counts(normalize=True)}\\n\"\"\")"
   ]
  },
  {
   "cell_type": "code",
   "execution_count": null,
   "metadata": {},
   "outputs": [],
   "source": [
    "from sklearn.model_selection import cross_val_score\n",
    "\n",
    "\n",
    "class ModelWithCV():\n",
    "    '''Structure to save the model and more easily see its crossvalidation'''\n",
    "    \n",
    "    def __init__(self, model, model_name, X, y, cv_now=True):\n",
    "        self.model = model\n",
    "        self.name = model_name\n",
    "        self.X = X\n",
    "        self.y = y\n",
    "        # For CV results\n",
    "        self.cv_results = None\n",
    "        self.cv_mean = None\n",
    "        self.cv_median = None\n",
    "        self.cv_std = None\n",
    "        #\n",
    "        if cv_now:\n",
    "            self.cross_validate()\n",
    "        \n",
    "    def cross_validate(self, X=None, y=None, kfolds=10):\n",
    "        '''\n",
    "        Perform cross-validation and return results.\n",
    "        \n",
    "        Args: \n",
    "          X:\n",
    "            Optional; Training data to perform CV on. Otherwise use X from object\n",
    "          y:\n",
    "            Optional; Training data to perform CV on. Otherwise use y from object\n",
    "          kfolds:\n",
    "            Optional; Number of folds for CV (default is 10)  \n",
    "        '''\n",
    "        \n",
    "        cv_X = X if X else self.X\n",
    "        cv_y = y if y else self.y\n",
    "\n",
    "        self.cv_results = cross_val_score(self.model, cv_X, cv_y, cv=kfolds)\n",
    "        self.cv_mean = np.mean(self.cv_results)\n",
    "        self.cv_median = np.median(self.cv_results)\n",
    "        self.cv_std = np.std(self.cv_results)\n",
    "\n",
    "        \n",
    "    def print_cv_summary(self):\n",
    "        cv_summary = (\n",
    "        f'''CV Results for `{self.name}` model:\n",
    "            {self.cv_mean:.5f} ± {self.cv_std:.5f} accuracy\n",
    "        ''')\n",
    "        print(cv_summary)\n",
    "\n",
    "        \n",
    "    def plot_cv(self, ax):\n",
    "        '''\n",
    "        Plot the cross-validation values using the array of results and given \n",
    "        Axis for plotting.\n",
    "        '''\n",
    "        ax.set_title(f'CV Results for `{self.name}` Model')\n",
    "        # Thinner violinplot with higher bw\n",
    "        sns.violinplot(y=self.cv_results, ax=ax, bw=.4)\n",
    "        sns.swarmplot(\n",
    "                y=self.cv_results,\n",
    "                color='orange',\n",
    "                size=10,\n",
    "                alpha= 0.8,\n",
    "                ax=ax\n",
    "        )\n",
    "\n",
    "        return ax"
   ]
  },
  {
   "cell_type": "markdown",
   "metadata": {},
   "source": [
    "## Dummy"
   ]
  },
  {
   "cell_type": "code",
   "execution_count": null,
   "metadata": {},
   "outputs": [],
   "source": [
    "# Create Dummy/Baseliner\n",
    "from sklearn.dummy import DummyRegressor\n",
    "from sklearn.pipeline import Pipeline\n",
    "from sklearn.model_selection import GridSearchCV\n",
    "\n",
    "estimator = DummyRegressor(strategy='mean')\n",
    "\n",
    "# Create Dummy/Baseliner\n",
    "from sklearn.dummy import DummyRegressor\n",
    "\n",
    "pipe = Pipeline(steps=[\n",
    "    ('estimator', DummyRegressor(strategy='mean'))\n",
    "])\n",
    "\n",
    "cv = ModelWithCV(pipe, 'estimator', X_train, y_train)"
   ]
  },
  {
   "cell_type": "code",
   "execution_count": null,
   "metadata": {},
   "outputs": [],
   "source": [
    "f, ax = plt.subplots()\n",
    "\n",
    "cv.plot_cv(ax);"
   ]
  },
  {
   "cell_type": "code",
   "execution_count": null,
   "metadata": {},
   "outputs": [],
   "source": [
    "cv.print_cv_summary()"
   ]
  },
  {
   "cell_type": "code",
   "execution_count": null,
   "metadata": {},
   "outputs": [],
   "source": [
    "dummy_pipe.print_cv_summary()"
   ]
  },
  {
   "cell_type": "markdown",
   "metadata": {},
   "source": [
    "## Logistic Regression"
   ]
  },
  {
   "cell_type": "code",
   "execution_count": null,
   "metadata": {},
   "outputs": [],
   "source": [
    "# Import relevant class and function\n",
    "from sklearn.linear_model import LogisticRegression\n",
    "from sklearn.model_selection import cross_val_score\n",
    "from sklearn.decomposition import PCA\n",
    "\n",
    "pipe = Pipeline(steps=[\n",
    "    #('scaler', StandardScaler()),\n",
    "    #('pca', PCA(n_components=4)),\n",
    "    ('estimator', LogisticRegression(random_state=42))\n",
    "])"
   ]
  },
  {
   "cell_type": "code",
   "execution_count": null,
   "metadata": {},
   "outputs": [],
   "source": [
    "param_grid = {}\n",
    "param_grid['estimator__C'] = np.logspace(-4, 4, 50)\n",
    "param_grid['estimator__solver'] = ['liblinear']\n",
    "param_grid['estimator__penalty'] = ['l1', 'l2']\n",
    "param_grid['estimator__class_weight'] = ['balanced', None]\n",
    "#params['logreg__n_jobs'] = [1]\n",
    "param_grid['estimator__max_iter'] = [1000]"
   ]
  },
  {
   "cell_type": "code",
   "execution_count": null,
   "metadata": {},
   "outputs": [],
   "source": [
    "from sklearn.model_selection import GridSearchCV\n",
    "\n",
    "grid_search = GridSearchCV(pipe, param_grid, cv=10, return_train_score=True, scoring='accuracy', verbose=1)"
   ]
  },
  {
   "cell_type": "code",
   "execution_count": null,
   "metadata": {},
   "outputs": [],
   "source": [
    "grid_search.fit(X_train, y_train)"
   ]
  },
  {
   "cell_type": "code",
   "execution_count": null,
   "metadata": {},
   "outputs": [],
   "source": [
    "from sklearn.metrics import classification_report\n",
    "from sklearn.metrics import accuracy_score\n",
    "\n",
    "# Mean training score\n",
    "grid_train_score = np.mean(grid_search.cv_results_['mean_train_score'])\n",
    "\n",
    "# Mean test score\n",
    "grid_test_score = grid_search.score(X_test, y_test)\n",
    "\n",
    "best_grid = grid_search.best_estimator_\n",
    "best_grid.fit(X_train, y_train)\n",
    "y_pred = best_grid.predict(X_test)\n",
    "\n",
    "print(f\"Mean Training Score: {grid_train_score:.2%}\\n\")\n",
    "print(f\"Mean Test Score: {grid_test_score:.2%}\\n\")\n",
    "\n",
    "print(f\"Accuracy Score: {accuracy_score(y_test, y_pred):.2%}\\n\")\n",
    "print(f\"Optimal Parameters: {grid_search.best_params_}\\n\")\n",
    "print(f\"Testing Accuracy: {grid_search.best_score_:.2%}\\n\")\n",
    "\n",
    "print(classification_report(y_test, y_pred))"
   ]
  },
  {
   "cell_type": "markdown",
   "metadata": {},
   "source": [
    "## Random Forest - Random Search CV"
   ]
  },
  {
   "cell_type": "code",
   "execution_count": null,
   "metadata": {},
   "outputs": [],
   "source": [
    "from sklearn.pipeline import Pipeline\n",
    "from sklearn.ensemble import RandomForestClassifier\n",
    "\n",
    "pipe = Pipeline(steps=[\n",
    "    ('estimator', RandomForestClassifier(random_state=42))\n",
    "])"
   ]
  },
  {
   "cell_type": "code",
   "execution_count": null,
   "metadata": {},
   "outputs": [],
   "source": [
    "param_grid = {}\n",
    "param_grid['estimator__n_estimators'] = [int(x) for x in np.linspace(start = 200, stop = 2000, num = 10)]\n",
    "param_grid['estimator__max_features'] = ['auto', 'sqrt']\n",
    "param_grid['estimator__max_depth'] = [int(x) for x in np.linspace(10, 110, num = 11)]\n",
    "param_grid['estimator__min_samples_split'] = [2, 5, 10]\n",
    "param_grid['estimator__min_samples_leaf'] = [1, 2, 4]\n",
    "param_grid['estimator__bootstrap'] = [True, False]\n"
   ]
  },
  {
   "cell_type": "code",
   "execution_count": null,
   "metadata": {},
   "outputs": [],
   "source": [
    "from sklearn.model_selection import RandomizedSearchCV\n",
    "\n",
    "grid_search = RandomizedSearchCV(estimator=pipe, \n",
    "                                 param_distributions=param_grid, \n",
    "                                 cv=10, return_train_score=True, \n",
    "                                 scoring='accuracy', \n",
    "                                 n_iter=100, \n",
    "                                 random_state=42, \n",
    "                                 n_jobs = -1, \n",
    "                                 verbose=1)\n"
   ]
  },
  {
   "cell_type": "code",
   "execution_count": null,
   "metadata": {},
   "outputs": [],
   "source": [
    "grid_search.fit(X_train, y_train)"
   ]
  },
  {
   "cell_type": "code",
   "execution_count": null,
   "metadata": {},
   "outputs": [],
   "source": [
    "from sklearn.metrics import accuracy_score\n",
    "from sklearn.metrics import classification_report\n",
    "\n",
    "# Mean training score\n",
    "grid_train_score = np.mean(grid_search.cv_results_['mean_train_score'])\n",
    "\n",
    "# Mean test score\n",
    "grid_test_score = grid_search.score(X_test, y_test)\n",
    "\n",
    "best_grid = grid_search.best_estimator_\n",
    "best_grid.fit(X_train, y_train)\n",
    "y_pred = best_grid.predict(X_test)\n",
    "\n",
    "print(f\"Mean Training Score: {grid_train_score:.2%}\\n\")\n",
    "print(f\"Mean Test Score: {grid_test_score:.2%}\\n\")\n",
    "\n",
    "print(f\"Accuracy Score: {accuracy_score(y_test, y_pred):.2%}\\n\")\n",
    "print(f\"Optimal Parameters: {grid_search.best_params_}\\n\")\n",
    "print(f\"Testing Accuracy: {grid_search.best_score_:.2%}\\n\")\n",
    "\n",
    "print(classification_report(y_test, y_pred))"
   ]
  },
  {
   "cell_type": "markdown",
   "metadata": {},
   "source": [
    "## Random Forest - Grid Search CV"
   ]
  },
  {
   "cell_type": "code",
   "execution_count": null,
   "metadata": {},
   "outputs": [],
   "source": [
    "from sklearn.pipeline import Pipeline\n",
    "from sklearn.ensemble import RandomForestClassifier\n",
    "\n",
    "pipe = Pipeline(steps=[\n",
    "    ('estimator', RandomForestClassifier(random_state=42))\n",
    "])"
   ]
  },
  {
   "cell_type": "code",
   "execution_count": null,
   "metadata": {},
   "outputs": [],
   "source": [
    "param_grid = {}\n",
    "param_grid['estimator__n_estimators'] = [int(x) for x in np.linspace(start=200, stop=2000, num=10)]\n",
    "param_grid['estimator__max_features'] = ['auto', 'sqrt']\n",
    "param_grid['estimator__max_depth'] = [int(x) for x in np.linspace(10, 110, num=11)]\n",
    "param_grid['estimator__min_samples_split'] = [2, 5, 10]\n",
    "param_grid['estimator__min_samples_leaf'] = [1, 2, 4]\n",
    "param_grid['estimator__bootstrap'] = [True, False]\n"
   ]
  },
  {
   "cell_type": "code",
   "execution_count": null,
   "metadata": {},
   "outputs": [],
   "source": [
    "from sklearn.model_selection import GridSearchCV\n",
    "\n",
    "grid_search = GridSearchCV(estimator=pipe, \n",
    "                           param_grid=param_grid, \n",
    "                           cv=10, \n",
    "                           return_train_score=True, \n",
    "                           scoring='accuracy',\n",
    "                           n_jobs = -1,\n",
    "                           verbose=1)\n"
   ]
  },
  {
   "cell_type": "code",
   "execution_count": null,
   "metadata": {},
   "outputs": [],
   "source": [
    "grid_search.fit(X_train, y_train)"
   ]
  },
  {
   "cell_type": "code",
   "execution_count": null,
   "metadata": {},
   "outputs": [],
   "source": [
    "from sklearn.metrics import accuracy_score\n",
    "from sklearn.metrics import classification_report\n",
    "\n",
    "# Mean training score\n",
    "grid_train_score = np.mean(grid_search.cv_results_['mean_train_score'])\n",
    "\n",
    "# Mean test score\n",
    "grid_test_score = grid_search.score(X_test, y_test)\n",
    "\n",
    "best_grid = grid_search.best_estimator_\n",
    "best_grid.fit(X_train, y_train)\n",
    "y_pred = best_grid.predict(X_test)\n",
    "\n",
    "print(f\"Mean Training Score: {grid_train_score:.2%}\\n\")\n",
    "print(f\"Mean Test Score: {grid_test_score:.2%}\\n\")\n",
    "\n",
    "print(f\"Accuracy Score: {accuracy_score(y_test, y_pred):.2%}\\n\")\n",
    "print(f\"Optimal Parameters: {grid_search.best_params_}\\n\")\n",
    "print(f\"Testing Accuracy: {grid_search.best_score_:.2%}\\n\")\n",
    "\n",
    "print(classification_report(y_test, y_pred))"
   ]
  },
  {
   "cell_type": "markdown",
   "metadata": {},
   "source": [
    "## Gaussian Naive Bayes"
   ]
  },
  {
   "cell_type": "code",
   "execution_count": null,
   "metadata": {},
   "outputs": [],
   "source": [
    "from sklearn.pipeline import Pipeline\n",
    "from sklearn.naive_bayes import GaussianNB\n",
    "\n",
    "pipe = Pipeline(steps=[\n",
    "    ('estimator', GaussianNB())\n",
    "])"
   ]
  },
  {
   "cell_type": "code",
   "execution_count": null,
   "metadata": {},
   "outputs": [],
   "source": [
    "param_grid = {}\n",
    "param_grid['estimator__var_smoothing'] = np.logspace(0,-9, num=100)\n",
    "#param_grid['estimator__var_smoothing'] = [1e-11, 1e-10, 1e-9]\n"
   ]
  },
  {
   "cell_type": "code",
   "execution_count": null,
   "metadata": {},
   "outputs": [],
   "source": [
    "from sklearn.model_selection import RandomizedSearchCV\n",
    "\n",
    "grid_search = RandomizedSearchCV(estimator=pipe, \n",
    "                                 param_distributions=param_grid, \n",
    "                                 cv=10, \n",
    "                                 return_train_score=True, \n",
    "                                 scoring='accuracy', \n",
    "                                 random_state=42,\n",
    "                                 n_jobs = -1,\n",
    "                                 verbose=1)\n"
   ]
  },
  {
   "cell_type": "code",
   "execution_count": null,
   "metadata": {},
   "outputs": [],
   "source": [
    "grid_search.fit(X_train, y_train)"
   ]
  },
  {
   "cell_type": "code",
   "execution_count": null,
   "metadata": {},
   "outputs": [],
   "source": [
    "from sklearn.metrics import accuracy_score\n",
    "from sklearn.metrics import classification_report\n",
    "\n",
    "# Mean training score\n",
    "grid_train_score = np.mean(grid_search.cv_results_['mean_train_score'])\n",
    "\n",
    "# Mean test score\n",
    "grid_test_score = grid_search.score(X_test, y_test)\n",
    "\n",
    "best_grid = grid_search.best_estimator_\n",
    "best_grid.fit(X_train, y_train)\n",
    "y_pred = best_grid.predict(X_test)\n",
    "\n",
    "print(f\"Mean Training Score: {grid_train_score:.2%}\\n\")\n",
    "print(f\"Mean Test Score: {grid_test_score:.2%}\\n\")\n",
    "\n",
    "print(f\"Accuracy Score: {accuracy_score(y_test, y_pred):.2%}\\n\")\n",
    "print(f\"Optimal Parameters: {grid_search.best_params_}\\n\")\n",
    "print(f\"Testing Accuracy: {grid_search.best_score_:.2%}\\n\")\n",
    "\n",
    "print(classification_report(y_test, y_pred))"
   ]
  },
  {
   "cell_type": "markdown",
   "metadata": {},
   "source": [
    "## XGB"
   ]
  },
  {
   "cell_type": "code",
   "execution_count": null,
   "metadata": {},
   "outputs": [],
   "source": [
    "from sklearn.pipeline import Pipeline\n",
    "import xgboost as xgb\n",
    "\n",
    "pipe = Pipeline(steps=[\n",
    "    ('estimator', xgboost.XGBRegressor(random_state=42, objective='reg:squarederror'))\n",
    "])\n",
    "\n"
   ]
  },
  {
   "cell_type": "code",
   "execution_count": null,
   "metadata": {},
   "outputs": [],
   "source": [
    "param_grid = {}\n",
    "param_grid['estimator__min_child_weight'] = [1, 5, 10],\n",
    "param_grid['estimator__gamma'] = [0.5, 1, 1.5, 2, 5],\n",
    "param_grid['estimator__subsample'] = [0.6, 0.8, 1.0],\n",
    "param_grid['estimator__colsample_bytree'] = [0.6, 0.8, 1.0],\n",
    "param_grid['estimator__max_depth'] = [3, 4, 5]"
   ]
  },
  {
   "cell_type": "code",
   "execution_count": null,
   "metadata": {},
   "outputs": [],
   "source": [
    "from sklearn.model_selection import GridSearchCV\n",
    "\n",
    "grid_search = GridSearchCV(estimator=pipe, \n",
    "                           param_grid=param_grid, \n",
    "                           cv=10, \n",
    "                           return_train_score=True, \n",
    "                           scoring='accuracy',\n",
    "                           n_jobs = -1,\n",
    "                           verbose=1)\n"
   ]
  },
  {
   "cell_type": "code",
   "execution_count": null,
   "metadata": {},
   "outputs": [],
   "source": [
    "grid_search.fit(X_train, y_train)"
   ]
  },
  {
   "cell_type": "code",
   "execution_count": null,
   "metadata": {},
   "outputs": [],
   "source": [
    "from sklearn.metrics import accuracy_score\n",
    "from sklearn.metrics import classification_report\n",
    "\n",
    "# Mean training score\n",
    "grid_train_score = np.mean(grid_search.cv_results_['mean_train_score'])\n",
    "\n",
    "# Mean test score\n",
    "grid_test_score = grid_search.score(X_test, y_test)\n",
    "\n",
    "best_grid = grid_search.best_estimator_\n",
    "best_grid.fit(X_train, y_train)\n",
    "y_pred = best_grid.predict(X_test)\n",
    "\n",
    "print(f\"Mean Training Score: {grid_train_score:.2%}\\n\")\n",
    "print(f\"Mean Test Score: {grid_test_score:.2%}\\n\")\n",
    "\n",
    "print(f\"Accuracy Score: {accuracy_score(y_test, y_pred):.2%}\\n\")\n",
    "print(f\"Optimal Parameters: {grid_search.best_params_}\\n\")\n",
    "print(f\"Testing Accuracy: {grid_search.best_score_:.2%}\\n\")\n",
    "\n",
    "print(classification_report(y_test, y_pred))"
   ]
  },
  {
   "cell_type": "code",
   "execution_count": null,
   "metadata": {},
   "outputs": [],
   "source": []
  },
  {
   "cell_type": "code",
   "execution_count": null,
   "metadata": {},
   "outputs": [],
   "source": []
  },
  {
   "cell_type": "code",
   "execution_count": null,
   "metadata": {},
   "outputs": [],
   "source": []
  },
  {
   "cell_type": "code",
   "execution_count": null,
   "metadata": {},
   "outputs": [],
   "source": []
  },
  {
   "cell_type": "code",
   "execution_count": null,
   "metadata": {},
   "outputs": [],
   "source": []
  },
  {
   "cell_type": "code",
   "execution_count": null,
   "metadata": {},
   "outputs": [],
   "source": []
  },
  {
   "cell_type": "code",
   "execution_count": null,
   "metadata": {},
   "outputs": [],
   "source": []
  },
  {
   "cell_type": "code",
   "execution_count": null,
   "metadata": {},
   "outputs": [],
   "source": [
    "from sklearn.linear_model import LogisticRegression\n",
    "from sklearn.neighbors import KNeighborsClassifier\n",
    "from sklearn.svm import SVC\n",
    "from sklearn.ensemble import RandomForestClassifier\n",
    "from sklearn.naive_bayes import GaussianNB\n",
    "from xgboost import XGBClassifier\n",
    "from sklearn import model_selection\n",
    "from sklearn.utils import class_weight\n",
    "from sklearn.metrics import classification_report\n",
    "from sklearn.metrics import confusion_matrix\n",
    "import numpy as np\n",
    "import pandas as pd\n",
    "\n",
    "#script to test the effectivenes of each model, uses default parameters\n",
    "#test six different classification models \n",
    "def run_exps(X_train, y_train, X_test, y_test) :\n",
    "    '''\n",
    "    Lightweight script to test many models and find winners\n",
    "    :param X_train: training split\n",
    "    :param y_train: training target vector\n",
    "    :param X_test: test split\n",
    "    :param y_test: test target vector\n",
    "    :return: DataFrame of predictions\n",
    "    '''\n",
    "    \n",
    "    dfs = []\n",
    "    \n",
    "    models = [\n",
    "          ('LogReg', LogisticRegression()), \n",
    "          ('RF', RandomForestClassifier()),\n",
    "          ('KNN', KNeighborsClassifier()),\n",
    "          ('SVM', SVC()), \n",
    "          ('GNB', GaussianNB()),\n",
    "          ('XGB', XGBClassifier())\n",
    "        ]\n",
    "    \n",
    "    results = []\n",
    "    \n",
    "    names = []\n",
    "    \n",
    "    scoring = ['accuracy', 'precision_weighted', 'recall_weighted', 'f1_weighted', 'roc_auc']\n",
    "    \n",
    "    target_names = ['win', 'loss']\n",
    "    \n",
    "    for name, model in models:\n",
    "        \n",
    "        kfold = model_selection.KFold(n_splits=5, shuffle=True, random_state=90210)\n",
    "        cv_results = model_selection.cross_validate(model, X_train, y_train, cv=kfold, scoring=scoring)\n",
    "        clf = model.fit(X_train, y_train)\n",
    "        y_pred = clf.predict(X_test)\n",
    "        \n",
    "        print(name)\n",
    "        print(classification_report(y_test, y_pred, target_names=target_names))\n",
    "        \n",
    "        results.append(cv_results)\n",
    "        names.append(name)\n",
    "        \n",
    "        this_df = pd.DataFrame(cv_results)\n",
    "        this_df['model'] = name\n",
    "        dfs.append(this_df)\n",
    "        \n",
    "    final = pd.concat(dfs, ignore_index=True)\n",
    "    \n",
    "    return final\n",
    "final = run_exps(X_train, y_train, X_test, y_test)\n",
    "final"
   ]
  },
  {
   "cell_type": "markdown",
   "metadata": {},
   "source": [
    "# Model Performance"
   ]
  },
  {
   "cell_type": "code",
   "execution_count": null,
   "metadata": {},
   "outputs": [],
   "source": [
    "bootstraps = []\n",
    "for model in list(set(final.model.values)):\n",
    "    model_df = final.loc[final.model == model]\n",
    "    bootstrap = model_df.sample(n=30, replace=True)\n",
    "    bootstraps.append(bootstrap)\n",
    "        \n",
    "bootstrap_df = pd.concat(bootstraps, ignore_index=True)\n",
    "results_long = pd.melt(bootstrap_df,id_vars=['model'],var_name='metrics', value_name='values')\n",
    "time_metrics = ['fit_time','score_time'] # fit time metrics\n",
    "## PERFORMANCE METRICS\n",
    "results_long_nofit = results_long.loc[~results_long['metrics'].isin(time_metrics)] # get df without fit data\n",
    "results_long_nofit = results_long_nofit.sort_values(by='values')\n",
    "## TIME METRICS\n",
    "results_long_fit = results_long.loc[results_long['metrics'].isin(time_metrics)] # df with fit data\n",
    "results_long_fit = results_long_fit.sort_values(by='values')"
   ]
  },
  {
   "cell_type": "code",
   "execution_count": null,
   "metadata": {},
   "outputs": [],
   "source": [
    "import matplotlib.pyplot as plt\n",
    "import seaborn as sns\n",
    "plt.figure(figsize=(20, 12))\n",
    "sns.set(font_scale=2.5)\n",
    "g = sns.boxplot(x=\"model\", y=\"values\", hue=\"metrics\", data=results_long_nofit, palette=\"Set3\")\n",
    "plt.legend(bbox_to_anchor=(1.05, 1), loc=2, borderaxespad=0.)\n",
    "plt.title('Comparison of Model by Classification Metric')\n",
    "plt.savefig('./benchmark_models_performance.png',dpi=300)"
   ]
  },
  {
   "cell_type": "code",
   "execution_count": null,
   "metadata": {},
   "outputs": [],
   "source": [
    "plt.figure(figsize=(20, 12))\n",
    "sns.set(font_scale=2.5)\n",
    "g = sns.boxplot(x=\"model\", y=\"values\", hue=\"metrics\", data=results_long_fit, palette=\"Set3\")\n",
    "plt.legend(bbox_to_anchor=(1.05, 1), loc=2, borderaxespad=0.)\n",
    "plt.title('Comparison of Model by Fit and Score Time')\n",
    "plt.savefig('./benchmark_models_time.png',dpi=300)"
   ]
  },
  {
   "cell_type": "code",
   "execution_count": null,
   "metadata": {},
   "outputs": [],
   "source": [
    "metrics = list(set(results_long_nofit.metrics.values))\n",
    "bootstrap_df.groupby(['model'])[metrics].agg([np.std, np.mean])"
   ]
  },
  {
   "cell_type": "markdown",
   "metadata": {},
   "source": [
    "# Final Selected Model\n",
    "- grid search for parameters \n",
    "- Gaussian NB"
   ]
  },
  {
   "cell_type": "code",
   "execution_count": null,
   "metadata": {},
   "outputs": [],
   "source": [
    "# Gaussian NB only has one parameter 'var_smoothing'\n",
    "# Portion of the largest variance of all features that is added to variances for calculation stability.\n",
    "# Number of different combinations of parameters \n",
    "\n",
    "from sklearn.metrics import accuracy_score\n",
    "from sklearn.model_selection import GridSearchCV\n",
    "\n",
    "nb_classifier = GaussianNB()\n",
    "\n",
    "target_names = ['Win', 'Loss']\n",
    "\n",
    "params_NB = {'var_smoothing': np.logspace(0,-9, num=100)}\n",
    "kfold = model_selection.KFold(n_splits=5, shuffle=True, random_state=90210)\n",
    "\n",
    "gs_NB = GridSearchCV(estimator=nb_classifier, \n",
    "                 param_grid=params_NB, \n",
    "                 cv=kfold,   \n",
    "                 verbose=1, \n",
    "                 scoring='accuracy', n_jobs=-1) \n",
    "\n",
    "gs_NB.fit(X_train, y_train)\n",
    "\n",
    "best_gs_grid = gs_NB.best_estimator_\n",
    "best_gs_grid.fit(X_train, y_train)\n",
    "y_pred_best_gs = best_gs_grid.predict(X_test)\n",
    "\n",
    "print(classification_report(y_test, y_pred_best_gs, target_names=target_names))\n",
    "gs_NB.best_params_"
   ]
  },
  {
   "cell_type": "code",
   "execution_count": null,
   "metadata": {},
   "outputs": [],
   "source": [
    "from sklearn.metrics import confusion_matrix\n",
    "confusionMatrix = confusion_matrix(y_test, y_pred_best_gs)\n",
    "print(confusionMatrix)"
   ]
  },
  {
   "cell_type": "markdown",
   "metadata": {},
   "source": [
    "# Confusion Matrix"
   ]
  },
  {
   "cell_type": "code",
   "execution_count": null,
   "metadata": {},
   "outputs": [],
   "source": [
    "confusionMatrix = confusion_matrix(y_test, y_pred_best_gs)  \n",
    "\n",
    "    # Code below prints model accuracy information\n",
    "print('Coefficient Information:')\n",
    "\n",
    "for i in range(len(featureColumns)):  \n",
    "\n",
    "    logregCoefficients = logreg.coef_\n",
    "\n",
    "    currentFeature = featureColumns[i]\n",
    "    currentCoefficient = logregCoefficients[0][i]\n",
    "\n",
    "    print(currentFeature + ': ' + str(currentCoefficient))\n",
    "\n",
    "print('----------------------------------')\n",
    "\n",
    "print(\"Accuracy:\", metrics.accuracy_score(Y_test, Y_pred))\n",
    "print(\"Precision:\", metrics.precision_score(Y_test, Y_pred))\n",
    "print(\"Recall:\", metrics.recall_score(Y_test, Y_pred))\n",
    "\n",
    "print('----------------------------------')\n",
    "\n",
    "print('Confusion Matrix:')\n",
    "print(confusionMatrix)"
   ]
  },
  {
   "cell_type": "markdown",
   "metadata": {},
   "source": [
    "# Saving Model"
   ]
  },
  {
   "cell_type": "code",
   "execution_count": null,
   "metadata": {},
   "outputs": [],
   "source": [
    "import pickle\n",
    "\n",
    "# Saves the model in folder to be used in future\n",
    "# filename should be end in '.pkl'\n",
    "def save_model(model, filename):\n",
    "\n",
    "    with open(filename, 'wb') as file:\n",
    "        pickle.dump(model, file)\n",
    "save_model()"
   ]
  }
 ],
 "metadata": {
  "kernelspec": {
   "display_name": "Python (learn-env)",
   "language": "python",
   "name": "learn-env"
  },
  "language_info": {
   "codemirror_mode": {
    "name": "ipython",
    "version": 3
   },
   "file_extension": ".py",
   "mimetype": "text/x-python",
   "name": "python",
   "nbconvert_exporter": "python",
   "pygments_lexer": "ipython3",
   "version": "3.9.12"
  }
 },
 "nbformat": 4,
 "nbformat_minor": 4
}
